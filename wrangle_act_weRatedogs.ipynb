{
 "cells": [
  {
   "cell_type": "markdown",
   "id": "3d3a8240",
   "metadata": {},
   "source": [
    "# Data wrangling - WeRateDogs Project."
   ]
  },
  {
   "cell_type": "markdown",
   "id": "1dba63b5",
   "metadata": {},
   "source": [
    "### Introduction\n",
    "\n",
    "Real-world data rarely comes clean. Using Python and its libraries, I will gather data from a variety of sources and in a variety of formats, assess its quality and tidiness, then clean it.\n",
    "\n",
    "The dataset that I will wrangling (and analyzing and visualizing) is the tweet archive of Twitter user @dog_rates, also known as WeRateDogs. WeRateDogs is a Twitter account that rates people's dogs with a humorous comment about the dog. These ratings almost always have a denominator of 10. The numerators, Almost always greater than 10. 11/10, 12/10, 13/10. \n",
    "\n",
    "\n",
    "### The Data\n",
    "\n",
    "In this project, I will work on the following three datasets.\n",
    "\n",
    "- Enhanced Twitter Archive\n",
    "\n",
    "The WeRateDogs Twitter archive contains basic tweet data for all 5000+ of their tweets, but not everything.\n",
    "\n",
    "- Additional Data via the Twitter API\n",
    "\n",
    "I will Gather retweet count and favorite count by using Twitter API\n",
    "\n",
    "- The tweet image predictions \n",
    "\n",
    "this file is hosted on Udacity's servers and should be downloaded programmatically using the Requests library. \n",
    "\n",
    "\n",
    "### Project Steps Overview\n",
    "Step 1: Gathering data\n",
    "\n",
    "Step 2: Assessing data\n",
    "\n",
    "Step 3: Cleaning data\n",
    "\n",
    "Step 4: Storing data\n",
    "\n",
    "Step 5: Analyzing, and visualizing data\n"
   ]
  },
  {
   "cell_type": "code",
   "execution_count": null,
   "id": "442624e8",
   "metadata": {},
   "outputs": [],
   "source": [
    "import pandas as pd\n",
    "import numpy as np\n",
    "import tweepy \n",
    "import requests \n",
    "import matplotlib.pyplot as plt \n",
    "import json \n",
    "import time"
   ]
  },
  {
   "cell_type": "markdown",
   "id": "dc13e176",
   "metadata": {},
   "source": [
    "## Step1. Gathering "
   ]
  },
  {
   "cell_type": "markdown",
   "id": "4f564893",
   "metadata": {},
   "source": [
    "### Downloading WeRateDogs Twitter archive"
   ]
  },
  {
   "cell_type": "code",
   "execution_count": 2,
   "id": "55b72220",
   "metadata": {},
   "outputs": [],
   "source": [
    "tweet_ar = pd.read_csv('twitter-archive-enhanced.csv')"
   ]
  },
  {
   "cell_type": "markdown",
   "id": "3c31517b",
   "metadata": {},
   "source": [
    "### Programmatically Downloading "
   ]
  },
  {
   "cell_type": "code",
   "execution_count": 7,
   "id": "2bc4f590",
   "metadata": {},
   "outputs": [],
   "source": [
    "url = 'https://d17h27t6h515a5.cloudfront.net/topher/2017/August/599fd2ad_image-predictions/image-predictions.tsv'\n",
    "r = requests.get(url)"
   ]
  },
  {
   "cell_type": "code",
   "execution_count": 8,
   "id": "6272ef2c",
   "metadata": {},
   "outputs": [],
   "source": [
    "\n",
    "with open('image_pre.csv', 'wb') as f:\n",
    "    f.write(r.content)"
   ]
  },
  {
   "cell_type": "code",
   "execution_count": 3,
   "id": "185f08db",
   "metadata": {},
   "outputs": [
    {
     "data": {
      "text/html": [
       "<div>\n",
       "<style scoped>\n",
       "    .dataframe tbody tr th:only-of-type {\n",
       "        vertical-align: middle;\n",
       "    }\n",
       "\n",
       "    .dataframe tbody tr th {\n",
       "        vertical-align: top;\n",
       "    }\n",
       "\n",
       "    .dataframe thead th {\n",
       "        text-align: right;\n",
       "    }\n",
       "</style>\n",
       "<table border=\"1\" class=\"dataframe\">\n",
       "  <thead>\n",
       "    <tr style=\"text-align: right;\">\n",
       "      <th></th>\n",
       "      <th>tweet_id</th>\n",
       "      <th>jpg_url</th>\n",
       "      <th>img_num</th>\n",
       "      <th>p1</th>\n",
       "      <th>p1_conf</th>\n",
       "      <th>p1_dog</th>\n",
       "      <th>p2</th>\n",
       "      <th>p2_conf</th>\n",
       "      <th>p2_dog</th>\n",
       "      <th>p3</th>\n",
       "      <th>p3_conf</th>\n",
       "      <th>p3_dog</th>\n",
       "    </tr>\n",
       "  </thead>\n",
       "  <tbody>\n",
       "    <tr>\n",
       "      <th>0</th>\n",
       "      <td>666020888022790149</td>\n",
       "      <td>https://pbs.twimg.com/media/CT4udn0WwAA0aMy.jpg</td>\n",
       "      <td>1</td>\n",
       "      <td>Welsh_springer_spaniel</td>\n",
       "      <td>0.465074</td>\n",
       "      <td>True</td>\n",
       "      <td>collie</td>\n",
       "      <td>0.156665</td>\n",
       "      <td>True</td>\n",
       "      <td>Shetland_sheepdog</td>\n",
       "      <td>0.061428</td>\n",
       "      <td>True</td>\n",
       "    </tr>\n",
       "    <tr>\n",
       "      <th>1</th>\n",
       "      <td>666029285002620928</td>\n",
       "      <td>https://pbs.twimg.com/media/CT42GRgUYAA5iDo.jpg</td>\n",
       "      <td>1</td>\n",
       "      <td>redbone</td>\n",
       "      <td>0.506826</td>\n",
       "      <td>True</td>\n",
       "      <td>miniature_pinscher</td>\n",
       "      <td>0.074192</td>\n",
       "      <td>True</td>\n",
       "      <td>Rhodesian_ridgeback</td>\n",
       "      <td>0.072010</td>\n",
       "      <td>True</td>\n",
       "    </tr>\n",
       "    <tr>\n",
       "      <th>2</th>\n",
       "      <td>666033412701032449</td>\n",
       "      <td>https://pbs.twimg.com/media/CT4521TWwAEvMyu.jpg</td>\n",
       "      <td>1</td>\n",
       "      <td>German_shepherd</td>\n",
       "      <td>0.596461</td>\n",
       "      <td>True</td>\n",
       "      <td>malinois</td>\n",
       "      <td>0.138584</td>\n",
       "      <td>True</td>\n",
       "      <td>bloodhound</td>\n",
       "      <td>0.116197</td>\n",
       "      <td>True</td>\n",
       "    </tr>\n",
       "    <tr>\n",
       "      <th>3</th>\n",
       "      <td>666044226329800704</td>\n",
       "      <td>https://pbs.twimg.com/media/CT5Dr8HUEAA-lEu.jpg</td>\n",
       "      <td>1</td>\n",
       "      <td>Rhodesian_ridgeback</td>\n",
       "      <td>0.408143</td>\n",
       "      <td>True</td>\n",
       "      <td>redbone</td>\n",
       "      <td>0.360687</td>\n",
       "      <td>True</td>\n",
       "      <td>miniature_pinscher</td>\n",
       "      <td>0.222752</td>\n",
       "      <td>True</td>\n",
       "    </tr>\n",
       "    <tr>\n",
       "      <th>4</th>\n",
       "      <td>666049248165822465</td>\n",
       "      <td>https://pbs.twimg.com/media/CT5IQmsXIAAKY4A.jpg</td>\n",
       "      <td>1</td>\n",
       "      <td>miniature_pinscher</td>\n",
       "      <td>0.560311</td>\n",
       "      <td>True</td>\n",
       "      <td>Rottweiler</td>\n",
       "      <td>0.243682</td>\n",
       "      <td>True</td>\n",
       "      <td>Doberman</td>\n",
       "      <td>0.154629</td>\n",
       "      <td>True</td>\n",
       "    </tr>\n",
       "  </tbody>\n",
       "</table>\n",
       "</div>"
      ],
      "text/plain": [
       "             tweet_id                                          jpg_url  \\\n",
       "0  666020888022790149  https://pbs.twimg.com/media/CT4udn0WwAA0aMy.jpg   \n",
       "1  666029285002620928  https://pbs.twimg.com/media/CT42GRgUYAA5iDo.jpg   \n",
       "2  666033412701032449  https://pbs.twimg.com/media/CT4521TWwAEvMyu.jpg   \n",
       "3  666044226329800704  https://pbs.twimg.com/media/CT5Dr8HUEAA-lEu.jpg   \n",
       "4  666049248165822465  https://pbs.twimg.com/media/CT5IQmsXIAAKY4A.jpg   \n",
       "\n",
       "   img_num                      p1   p1_conf  p1_dog                  p2  \\\n",
       "0        1  Welsh_springer_spaniel  0.465074    True              collie   \n",
       "1        1                 redbone  0.506826    True  miniature_pinscher   \n",
       "2        1         German_shepherd  0.596461    True            malinois   \n",
       "3        1     Rhodesian_ridgeback  0.408143    True             redbone   \n",
       "4        1      miniature_pinscher  0.560311    True          Rottweiler   \n",
       "\n",
       "    p2_conf  p2_dog                   p3   p3_conf  p3_dog  \n",
       "0  0.156665    True    Shetland_sheepdog  0.061428    True  \n",
       "1  0.074192    True  Rhodesian_ridgeback  0.072010    True  \n",
       "2  0.138584    True           bloodhound  0.116197    True  \n",
       "3  0.360687    True   miniature_pinscher  0.222752    True  \n",
       "4  0.243682    True             Doberman  0.154629    True  "
      ]
     },
     "execution_count": 3,
     "metadata": {},
     "output_type": "execute_result"
    }
   ],
   "source": [
    "images = pd.read_csv('image_pre.csv' , sep = '\\t')\n",
    "images.head(5)"
   ]
  },
  {
   "cell_type": "markdown",
   "id": "cc81a08b",
   "metadata": {},
   "source": [
    "### Twitter API"
   ]
  },
  {
   "cell_type": "code",
   "execution_count": 15,
   "id": "4f7b8c48",
   "metadata": {},
   "outputs": [],
   "source": [
    "consumer_key = ''\n",
    "consumer_secret = ''\n",
    "access_token = ''\n",
    "access_secret = ''\n",
    "\n",
    "auth = tweepy.OAuthHandler(consumer_key, consumer_secret)\n",
    "auth.set_access_token(access_token, access_secret)\n",
    "\n",
    "api = tweepy.API(auth , wait_on_rate_limit = True , wait_on_rate_limit_notify = True )"
   ]
  },
  {
   "cell_type": "code",
   "execution_count": 16,
   "id": "50338521",
   "metadata": {},
   "outputs": [],
   "source": [
    "# id list from WeRateDogs archive \n",
    "\n",
    "df_id = tweet_ar['tweet_id']"
   ]
  },
  {
   "cell_type": "code",
   "execution_count": 17,
   "id": "f2746075",
   "metadata": {},
   "outputs": [
    {
     "name": "stdout",
     "output_type": "stream",
     "text": [
      "888202515573088257 _ [{'code': 144, 'message': 'No status found with that ID.'}]\n",
      "873697596434513921 _ [{'code': 144, 'message': 'No status found with that ID.'}]\n",
      "872668790621863937 _ [{'code': 144, 'message': 'No status found with that ID.'}]\n",
      "872261713294495745 _ [{'code': 144, 'message': 'No status found with that ID.'}]\n",
      "869988702071779329 _ [{'code': 144, 'message': 'No status found with that ID.'}]\n",
      "866816280283807744 _ [{'code': 144, 'message': 'No status found with that ID.'}]\n",
      "861769973181624320 _ [{'code': 144, 'message': 'No status found with that ID.'}]\n",
      "856602993587888130 _ [{'code': 144, 'message': 'No status found with that ID.'}]\n",
      "856330835276025856 _ [{'code': 34, 'message': 'Sorry, that page does not exist.'}]\n",
      "851953902622658560 _ [{'code': 144, 'message': 'No status found with that ID.'}]\n",
      "845459076796616705 _ [{'code': 144, 'message': 'No status found with that ID.'}]\n",
      "844704788403113984 _ [{'code': 144, 'message': 'No status found with that ID.'}]\n",
      "842892208864923648 _ [{'code': 144, 'message': 'No status found with that ID.'}]\n",
      "837366284874571778 _ [{'code': 144, 'message': 'No status found with that ID.'}]\n",
      "837012587749474308 _ [{'code': 144, 'message': 'No status found with that ID.'}]\n",
      "829374341691346946 _ [{'code': 144, 'message': 'No status found with that ID.'}]\n",
      "827228250799742977 _ [{'code': 144, 'message': 'No status found with that ID.'}]\n",
      "812747805718642688 _ [{'code': 144, 'message': 'No status found with that ID.'}]\n",
      "802247111496568832 _ [{'code': 144, 'message': 'No status found with that ID.'}]\n",
      "779123168116150273 _ [{'code': 144, 'message': 'No status found with that ID.'}]\n",
      "775096608509886464 _ [{'code': 144, 'message': 'No status found with that ID.'}]\n",
      "771004394259247104 _ [{'code': 179, 'message': 'Sorry, you are not authorized to see this status.'}]\n",
      "770743923962707968 _ [{'code': 144, 'message': 'No status found with that ID.'}]\n",
      "766864461642756096 _ [{'code': 144, 'message': 'No status found with that ID.'}]\n",
      "759923798737051648 _ [{'code': 144, 'message': 'No status found with that ID.'}]\n",
      "759566828574212096 _ [{'code': 144, 'message': 'No status found with that ID.'}]\n",
      "754011816964026368 _ [{'code': 144, 'message': 'No status found with that ID.'}]\n",
      "680055455951884288 _ [{'code': 144, 'message': 'No status found with that ID.'}]\n",
      "Total time taken for execution 2550.836670398712\n"
     ]
    }
   ],
   "source": [
    "\n",
    "tweets_error_list = []\n",
    "\n",
    "# List of tweets\n",
    "df_tweets = []\n",
    "\n",
    "start = time.time()\n",
    "\n",
    "for tweet_id in df_id:\n",
    "    try:\n",
    "        tweet = api.get_status(tweet_id, tweet_mode= 'extended')._json \n",
    "        \n",
    "        favorites = tweet['favorite_count'] # number of favorites for the tweet\n",
    "        retweets = tweet['retweet_count'] # number of retweets\n",
    "       \n",
    "        \n",
    "        df_tweets.append({'tweet_id': int(tweet_id),\n",
    "                        'favorites': int(favorites),\n",
    "                        'retweets': int(retweets)})\n",
    "    except Exception as e:\n",
    "        print(str(tweet_id)+ \" _ \" + str(e))\n",
    "        tweets_error_list.append(tweet_id)\n",
    "        \n",
    "end = time.time()\n",
    "\n",
    "print(\"Total time taken for execution\", end - start)"
   ]
  },
  {
   "cell_type": "code",
   "execution_count": 18,
   "id": "e502ed1f",
   "metadata": {},
   "outputs": [],
   "source": [
    "tweet_df = pd.DataFrame(df_tweets , columns = ['tweet_id', 'favorites', 'retweets'])"
   ]
  },
  {
   "cell_type": "code",
   "execution_count": 19,
   "id": "92f9b58d",
   "metadata": {},
   "outputs": [],
   "source": [
    "tweet_df.to_csv('tweet_json.txt', encoding = 'utf-8', index=False)"
   ]
  },
  {
   "cell_type": "code",
   "execution_count": 4,
   "id": "d15f3f91",
   "metadata": {},
   "outputs": [],
   "source": [
    "df = pd.read_csv('tweet_json.txt' ,encoding = 'utf-8' )"
   ]
  },
  {
   "cell_type": "code",
   "execution_count": 5,
   "id": "0b78a07c",
   "metadata": {},
   "outputs": [
    {
     "data": {
      "text/html": [
       "<div>\n",
       "<style scoped>\n",
       "    .dataframe tbody tr th:only-of-type {\n",
       "        vertical-align: middle;\n",
       "    }\n",
       "\n",
       "    .dataframe tbody tr th {\n",
       "        vertical-align: top;\n",
       "    }\n",
       "\n",
       "    .dataframe thead th {\n",
       "        text-align: right;\n",
       "    }\n",
       "</style>\n",
       "<table border=\"1\" class=\"dataframe\">\n",
       "  <thead>\n",
       "    <tr style=\"text-align: right;\">\n",
       "      <th></th>\n",
       "      <th>tweet_id</th>\n",
       "      <th>favorites</th>\n",
       "      <th>retweets</th>\n",
       "    </tr>\n",
       "  </thead>\n",
       "  <tbody>\n",
       "    <tr>\n",
       "      <th>0</th>\n",
       "      <td>892420643555336193</td>\n",
       "      <td>34561</td>\n",
       "      <td>7195</td>\n",
       "    </tr>\n",
       "    <tr>\n",
       "      <th>1</th>\n",
       "      <td>892177421306343426</td>\n",
       "      <td>29947</td>\n",
       "      <td>5402</td>\n",
       "    </tr>\n",
       "    <tr>\n",
       "      <th>2</th>\n",
       "      <td>891815181378084864</td>\n",
       "      <td>22543</td>\n",
       "      <td>3569</td>\n",
       "    </tr>\n",
       "    <tr>\n",
       "      <th>3</th>\n",
       "      <td>891689557279858688</td>\n",
       "      <td>37808</td>\n",
       "      <td>7422</td>\n",
       "    </tr>\n",
       "    <tr>\n",
       "      <th>4</th>\n",
       "      <td>891327558926688256</td>\n",
       "      <td>36098</td>\n",
       "      <td>7955</td>\n",
       "    </tr>\n",
       "  </tbody>\n",
       "</table>\n",
       "</div>"
      ],
      "text/plain": [
       "             tweet_id  favorites  retweets\n",
       "0  892420643555336193      34561      7195\n",
       "1  892177421306343426      29947      5402\n",
       "2  891815181378084864      22543      3569\n",
       "3  891689557279858688      37808      7422\n",
       "4  891327558926688256      36098      7955"
      ]
     },
     "execution_count": 5,
     "metadata": {},
     "output_type": "execute_result"
    }
   ],
   "source": [
    "df.head(5)"
   ]
  },
  {
   "cell_type": "markdown",
   "id": "231a9b88",
   "metadata": {},
   "source": [
    "## Step2. Assessing "
   ]
  },
  {
   "cell_type": "markdown",
   "id": "7e72bb22",
   "metadata": {},
   "source": [
    "### Enhanced Twitter Archive"
   ]
  },
  {
   "cell_type": "code",
   "execution_count": 37,
   "id": "6134c7af",
   "metadata": {},
   "outputs": [
    {
     "data": {
      "text/html": [
       "<div>\n",
       "<style scoped>\n",
       "    .dataframe tbody tr th:only-of-type {\n",
       "        vertical-align: middle;\n",
       "    }\n",
       "\n",
       "    .dataframe tbody tr th {\n",
       "        vertical-align: top;\n",
       "    }\n",
       "\n",
       "    .dataframe thead th {\n",
       "        text-align: right;\n",
       "    }\n",
       "</style>\n",
       "<table border=\"1\" class=\"dataframe\">\n",
       "  <thead>\n",
       "    <tr style=\"text-align: right;\">\n",
       "      <th></th>\n",
       "      <th>tweet_id</th>\n",
       "      <th>in_reply_to_status_id</th>\n",
       "      <th>in_reply_to_user_id</th>\n",
       "      <th>timestamp</th>\n",
       "      <th>source</th>\n",
       "      <th>text</th>\n",
       "      <th>retweeted_status_id</th>\n",
       "      <th>retweeted_status_user_id</th>\n",
       "      <th>retweeted_status_timestamp</th>\n",
       "      <th>expanded_urls</th>\n",
       "      <th>rating_numerator</th>\n",
       "      <th>rating_denominator</th>\n",
       "      <th>name</th>\n",
       "      <th>doggo</th>\n",
       "      <th>floofer</th>\n",
       "      <th>pupper</th>\n",
       "      <th>puppo</th>\n",
       "    </tr>\n",
       "  </thead>\n",
       "  <tbody>\n",
       "    <tr>\n",
       "      <th>695</th>\n",
       "      <td>786709082849828864</td>\n",
       "      <td>NaN</td>\n",
       "      <td>NaN</td>\n",
       "      <td>2016-10-13 23:23:56 +0000</td>\n",
       "      <td>&lt;a href=\"http://twitter.com/download/iphone\" r...</td>\n",
       "      <td>This is Logan, the Chow who lived. He solemnly...</td>\n",
       "      <td>NaN</td>\n",
       "      <td>NaN</td>\n",
       "      <td>NaN</td>\n",
       "      <td>https://twitter.com/dog_rates/status/786709082...</td>\n",
       "      <td>75</td>\n",
       "      <td>10</td>\n",
       "      <td>Logan</td>\n",
       "      <td>None</td>\n",
       "      <td>None</td>\n",
       "      <td>None</td>\n",
       "      <td>None</td>\n",
       "    </tr>\n",
       "    <tr>\n",
       "      <th>1297</th>\n",
       "      <td>707776935007539200</td>\n",
       "      <td>NaN</td>\n",
       "      <td>NaN</td>\n",
       "      <td>2016-03-10 03:55:45 +0000</td>\n",
       "      <td>&lt;a href=\"http://twitter.com/download/iphone\" r...</td>\n",
       "      <td>This is Sadie. She's a Bohemian Rhapsody. Rema...</td>\n",
       "      <td>NaN</td>\n",
       "      <td>NaN</td>\n",
       "      <td>NaN</td>\n",
       "      <td>https://twitter.com/dog_rates/status/707776935...</td>\n",
       "      <td>11</td>\n",
       "      <td>10</td>\n",
       "      <td>Sadie</td>\n",
       "      <td>None</td>\n",
       "      <td>None</td>\n",
       "      <td>None</td>\n",
       "      <td>None</td>\n",
       "    </tr>\n",
       "    <tr>\n",
       "      <th>986</th>\n",
       "      <td>749064354620928000</td>\n",
       "      <td>NaN</td>\n",
       "      <td>NaN</td>\n",
       "      <td>2016-07-02 02:17:13 +0000</td>\n",
       "      <td>&lt;a href=\"http://twitter.com/download/iphone\" r...</td>\n",
       "      <td>Meet Winston. He's pupset because I forgot to ...</td>\n",
       "      <td>NaN</td>\n",
       "      <td>NaN</td>\n",
       "      <td>NaN</td>\n",
       "      <td>https://twitter.com/dog_rates/status/749064354...</td>\n",
       "      <td>11</td>\n",
       "      <td>10</td>\n",
       "      <td>Winston</td>\n",
       "      <td>None</td>\n",
       "      <td>None</td>\n",
       "      <td>None</td>\n",
       "      <td>None</td>\n",
       "    </tr>\n",
       "    <tr>\n",
       "      <th>1435</th>\n",
       "      <td>697259378236399616</td>\n",
       "      <td>NaN</td>\n",
       "      <td>NaN</td>\n",
       "      <td>2016-02-10 03:22:44 +0000</td>\n",
       "      <td>&lt;a href=\"http://twitter.com/download/iphone\" r...</td>\n",
       "      <td>Please stop sending in saber-toothed tigers. T...</td>\n",
       "      <td>NaN</td>\n",
       "      <td>NaN</td>\n",
       "      <td>NaN</td>\n",
       "      <td>https://twitter.com/dog_rates/status/697259378...</td>\n",
       "      <td>8</td>\n",
       "      <td>10</td>\n",
       "      <td>getting</td>\n",
       "      <td>None</td>\n",
       "      <td>None</td>\n",
       "      <td>None</td>\n",
       "      <td>None</td>\n",
       "    </tr>\n",
       "    <tr>\n",
       "      <th>784</th>\n",
       "      <td>775096608509886464</td>\n",
       "      <td>NaN</td>\n",
       "      <td>NaN</td>\n",
       "      <td>2016-09-11 22:20:06 +0000</td>\n",
       "      <td>&lt;a href=\"http://twitter.com/download/iphone\" r...</td>\n",
       "      <td>RT @dog_rates: After so many requests, this is...</td>\n",
       "      <td>7.403732e+17</td>\n",
       "      <td>4.196984e+09</td>\n",
       "      <td>2016-06-08 02:41:38 +0000</td>\n",
       "      <td>https://twitter.com/dog_rates/status/740373189...</td>\n",
       "      <td>9</td>\n",
       "      <td>11</td>\n",
       "      <td>None</td>\n",
       "      <td>None</td>\n",
       "      <td>None</td>\n",
       "      <td>None</td>\n",
       "      <td>None</td>\n",
       "    </tr>\n",
       "    <tr>\n",
       "      <th>1524</th>\n",
       "      <td>690597161306841088</td>\n",
       "      <td>NaN</td>\n",
       "      <td>NaN</td>\n",
       "      <td>2016-01-22 18:09:28 +0000</td>\n",
       "      <td>&lt;a href=\"http://twitter.com/download/iphone\" r...</td>\n",
       "      <td>This is Lolo. She's America af. Behind in scie...</td>\n",
       "      <td>NaN</td>\n",
       "      <td>NaN</td>\n",
       "      <td>NaN</td>\n",
       "      <td>https://twitter.com/dog_rates/status/690597161...</td>\n",
       "      <td>11</td>\n",
       "      <td>10</td>\n",
       "      <td>Lolo</td>\n",
       "      <td>None</td>\n",
       "      <td>None</td>\n",
       "      <td>None</td>\n",
       "      <td>None</td>\n",
       "    </tr>\n",
       "    <tr>\n",
       "      <th>1682</th>\n",
       "      <td>681891461017812993</td>\n",
       "      <td>NaN</td>\n",
       "      <td>NaN</td>\n",
       "      <td>2015-12-29 17:36:07 +0000</td>\n",
       "      <td>&lt;a href=\"http://twitter.com/download/iphone\" r...</td>\n",
       "      <td>Say hello to Charlie. He's scholarly af. Quite...</td>\n",
       "      <td>NaN</td>\n",
       "      <td>NaN</td>\n",
       "      <td>NaN</td>\n",
       "      <td>https://twitter.com/dog_rates/status/681891461...</td>\n",
       "      <td>10</td>\n",
       "      <td>10</td>\n",
       "      <td>Charlie</td>\n",
       "      <td>None</td>\n",
       "      <td>None</td>\n",
       "      <td>pupper</td>\n",
       "      <td>None</td>\n",
       "    </tr>\n",
       "    <tr>\n",
       "      <th>500</th>\n",
       "      <td>813112105746448384</td>\n",
       "      <td>NaN</td>\n",
       "      <td>NaN</td>\n",
       "      <td>2016-12-25 20:00:07 +0000</td>\n",
       "      <td>&lt;a href=\"http://twitter.com/download/iphone\" r...</td>\n",
       "      <td>Meet Toby. He's pupset because his hat isn't b...</td>\n",
       "      <td>NaN</td>\n",
       "      <td>NaN</td>\n",
       "      <td>NaN</td>\n",
       "      <td>https://twitter.com/dog_rates/status/813112105...</td>\n",
       "      <td>12</td>\n",
       "      <td>10</td>\n",
       "      <td>Toby</td>\n",
       "      <td>None</td>\n",
       "      <td>None</td>\n",
       "      <td>None</td>\n",
       "      <td>None</td>\n",
       "    </tr>\n",
       "    <tr>\n",
       "      <th>1398</th>\n",
       "      <td>699775878809702401</td>\n",
       "      <td>NaN</td>\n",
       "      <td>NaN</td>\n",
       "      <td>2016-02-17 02:02:25 +0000</td>\n",
       "      <td>&lt;a href=\"http://twitter.com/download/iphone\" r...</td>\n",
       "      <td>Meet Fillup. Spaghetti is his main weakness. A...</td>\n",
       "      <td>NaN</td>\n",
       "      <td>NaN</td>\n",
       "      <td>NaN</td>\n",
       "      <td>https://twitter.com/dog_rates/status/699775878...</td>\n",
       "      <td>11</td>\n",
       "      <td>10</td>\n",
       "      <td>Fillup</td>\n",
       "      <td>None</td>\n",
       "      <td>None</td>\n",
       "      <td>None</td>\n",
       "      <td>None</td>\n",
       "    </tr>\n",
       "    <tr>\n",
       "      <th>1565</th>\n",
       "      <td>688064179421470721</td>\n",
       "      <td>NaN</td>\n",
       "      <td>NaN</td>\n",
       "      <td>2016-01-15 18:24:18 +0000</td>\n",
       "      <td>&lt;a href=\"http://twitter.com/download/iphone\" r...</td>\n",
       "      <td>This is Kilo. He's a Pouncing Brioche. Really ...</td>\n",
       "      <td>NaN</td>\n",
       "      <td>NaN</td>\n",
       "      <td>NaN</td>\n",
       "      <td>https://twitter.com/dog_rates/status/688064179...</td>\n",
       "      <td>11</td>\n",
       "      <td>10</td>\n",
       "      <td>Kilo</td>\n",
       "      <td>None</td>\n",
       "      <td>None</td>\n",
       "      <td>None</td>\n",
       "      <td>None</td>\n",
       "    </tr>\n",
       "  </tbody>\n",
       "</table>\n",
       "</div>"
      ],
      "text/plain": [
       "                tweet_id  in_reply_to_status_id  in_reply_to_user_id  \\\n",
       "695   786709082849828864                    NaN                  NaN   \n",
       "1297  707776935007539200                    NaN                  NaN   \n",
       "986   749064354620928000                    NaN                  NaN   \n",
       "1435  697259378236399616                    NaN                  NaN   \n",
       "784   775096608509886464                    NaN                  NaN   \n",
       "1524  690597161306841088                    NaN                  NaN   \n",
       "1682  681891461017812993                    NaN                  NaN   \n",
       "500   813112105746448384                    NaN                  NaN   \n",
       "1398  699775878809702401                    NaN                  NaN   \n",
       "1565  688064179421470721                    NaN                  NaN   \n",
       "\n",
       "                      timestamp  \\\n",
       "695   2016-10-13 23:23:56 +0000   \n",
       "1297  2016-03-10 03:55:45 +0000   \n",
       "986   2016-07-02 02:17:13 +0000   \n",
       "1435  2016-02-10 03:22:44 +0000   \n",
       "784   2016-09-11 22:20:06 +0000   \n",
       "1524  2016-01-22 18:09:28 +0000   \n",
       "1682  2015-12-29 17:36:07 +0000   \n",
       "500   2016-12-25 20:00:07 +0000   \n",
       "1398  2016-02-17 02:02:25 +0000   \n",
       "1565  2016-01-15 18:24:18 +0000   \n",
       "\n",
       "                                                 source  \\\n",
       "695   <a href=\"http://twitter.com/download/iphone\" r...   \n",
       "1297  <a href=\"http://twitter.com/download/iphone\" r...   \n",
       "986   <a href=\"http://twitter.com/download/iphone\" r...   \n",
       "1435  <a href=\"http://twitter.com/download/iphone\" r...   \n",
       "784   <a href=\"http://twitter.com/download/iphone\" r...   \n",
       "1524  <a href=\"http://twitter.com/download/iphone\" r...   \n",
       "1682  <a href=\"http://twitter.com/download/iphone\" r...   \n",
       "500   <a href=\"http://twitter.com/download/iphone\" r...   \n",
       "1398  <a href=\"http://twitter.com/download/iphone\" r...   \n",
       "1565  <a href=\"http://twitter.com/download/iphone\" r...   \n",
       "\n",
       "                                                   text  retweeted_status_id  \\\n",
       "695   This is Logan, the Chow who lived. He solemnly...                  NaN   \n",
       "1297  This is Sadie. She's a Bohemian Rhapsody. Rema...                  NaN   \n",
       "986   Meet Winston. He's pupset because I forgot to ...                  NaN   \n",
       "1435  Please stop sending in saber-toothed tigers. T...                  NaN   \n",
       "784   RT @dog_rates: After so many requests, this is...         7.403732e+17   \n",
       "1524  This is Lolo. She's America af. Behind in scie...                  NaN   \n",
       "1682  Say hello to Charlie. He's scholarly af. Quite...                  NaN   \n",
       "500   Meet Toby. He's pupset because his hat isn't b...                  NaN   \n",
       "1398  Meet Fillup. Spaghetti is his main weakness. A...                  NaN   \n",
       "1565  This is Kilo. He's a Pouncing Brioche. Really ...                  NaN   \n",
       "\n",
       "      retweeted_status_user_id retweeted_status_timestamp  \\\n",
       "695                        NaN                        NaN   \n",
       "1297                       NaN                        NaN   \n",
       "986                        NaN                        NaN   \n",
       "1435                       NaN                        NaN   \n",
       "784               4.196984e+09  2016-06-08 02:41:38 +0000   \n",
       "1524                       NaN                        NaN   \n",
       "1682                       NaN                        NaN   \n",
       "500                        NaN                        NaN   \n",
       "1398                       NaN                        NaN   \n",
       "1565                       NaN                        NaN   \n",
       "\n",
       "                                          expanded_urls  rating_numerator  \\\n",
       "695   https://twitter.com/dog_rates/status/786709082...                75   \n",
       "1297  https://twitter.com/dog_rates/status/707776935...                11   \n",
       "986   https://twitter.com/dog_rates/status/749064354...                11   \n",
       "1435  https://twitter.com/dog_rates/status/697259378...                 8   \n",
       "784   https://twitter.com/dog_rates/status/740373189...                 9   \n",
       "1524  https://twitter.com/dog_rates/status/690597161...                11   \n",
       "1682  https://twitter.com/dog_rates/status/681891461...                10   \n",
       "500   https://twitter.com/dog_rates/status/813112105...                12   \n",
       "1398  https://twitter.com/dog_rates/status/699775878...                11   \n",
       "1565  https://twitter.com/dog_rates/status/688064179...                11   \n",
       "\n",
       "      rating_denominator     name doggo floofer  pupper puppo  \n",
       "695                   10    Logan  None    None    None  None  \n",
       "1297                  10    Sadie  None    None    None  None  \n",
       "986                   10  Winston  None    None    None  None  \n",
       "1435                  10  getting  None    None    None  None  \n",
       "784                   11     None  None    None    None  None  \n",
       "1524                  10     Lolo  None    None    None  None  \n",
       "1682                  10  Charlie  None    None  pupper  None  \n",
       "500                   10     Toby  None    None    None  None  \n",
       "1398                  10   Fillup  None    None    None  None  \n",
       "1565                  10     Kilo  None    None    None  None  "
      ]
     },
     "execution_count": 37,
     "metadata": {},
     "output_type": "execute_result"
    }
   ],
   "source": [
    "tweet_ar.sample(10)"
   ]
  },
  {
   "cell_type": "code",
   "execution_count": 38,
   "id": "96c06db2",
   "metadata": {},
   "outputs": [
    {
     "name": "stdout",
     "output_type": "stream",
     "text": [
      "<class 'pandas.core.frame.DataFrame'>\n",
      "RangeIndex: 2356 entries, 0 to 2355\n",
      "Data columns (total 17 columns):\n",
      " #   Column                      Non-Null Count  Dtype  \n",
      "---  ------                      --------------  -----  \n",
      " 0   tweet_id                    2356 non-null   int64  \n",
      " 1   in_reply_to_status_id       78 non-null     float64\n",
      " 2   in_reply_to_user_id         78 non-null     float64\n",
      " 3   timestamp                   2356 non-null   object \n",
      " 4   source                      2356 non-null   object \n",
      " 5   text                        2356 non-null   object \n",
      " 6   retweeted_status_id         181 non-null    float64\n",
      " 7   retweeted_status_user_id    181 non-null    float64\n",
      " 8   retweeted_status_timestamp  181 non-null    object \n",
      " 9   expanded_urls               2297 non-null   object \n",
      " 10  rating_numerator            2356 non-null   int64  \n",
      " 11  rating_denominator          2356 non-null   int64  \n",
      " 12  name                        2356 non-null   object \n",
      " 13  doggo                       2356 non-null   object \n",
      " 14  floofer                     2356 non-null   object \n",
      " 15  pupper                      2356 non-null   object \n",
      " 16  puppo                       2356 non-null   object \n",
      "dtypes: float64(4), int64(3), object(10)\n",
      "memory usage: 313.0+ KB\n"
     ]
    }
   ],
   "source": [
    "tweet_ar.info()"
   ]
  },
  {
   "cell_type": "code",
   "execution_count": 51,
   "id": "98dc7cd0",
   "metadata": {},
   "outputs": [
    {
     "data": {
      "text/plain": [
       "False"
      ]
     },
     "execution_count": 51,
     "metadata": {},
     "output_type": "execute_result"
    }
   ],
   "source": [
    "tweet_ar['rating_numerator'].isnull().values.any()"
   ]
  },
  {
   "cell_type": "code",
   "execution_count": 52,
   "id": "cb69df0d",
   "metadata": {},
   "outputs": [
    {
     "data": {
      "text/html": [
       "<div>\n",
       "<style scoped>\n",
       "    .dataframe tbody tr th:only-of-type {\n",
       "        vertical-align: middle;\n",
       "    }\n",
       "\n",
       "    .dataframe tbody tr th {\n",
       "        vertical-align: top;\n",
       "    }\n",
       "\n",
       "    .dataframe thead th {\n",
       "        text-align: right;\n",
       "    }\n",
       "</style>\n",
       "<table border=\"1\" class=\"dataframe\">\n",
       "  <thead>\n",
       "    <tr style=\"text-align: right;\">\n",
       "      <th></th>\n",
       "      <th>tweet_id</th>\n",
       "      <th>in_reply_to_status_id</th>\n",
       "      <th>in_reply_to_user_id</th>\n",
       "      <th>retweeted_status_id</th>\n",
       "      <th>retweeted_status_user_id</th>\n",
       "      <th>rating_numerator</th>\n",
       "      <th>rating_denominator</th>\n",
       "    </tr>\n",
       "  </thead>\n",
       "  <tbody>\n",
       "    <tr>\n",
       "      <th>count</th>\n",
       "      <td>2.356000e+03</td>\n",
       "      <td>7.800000e+01</td>\n",
       "      <td>7.800000e+01</td>\n",
       "      <td>1.810000e+02</td>\n",
       "      <td>1.810000e+02</td>\n",
       "      <td>2356.000000</td>\n",
       "      <td>2356.000000</td>\n",
       "    </tr>\n",
       "    <tr>\n",
       "      <th>mean</th>\n",
       "      <td>7.427716e+17</td>\n",
       "      <td>7.455079e+17</td>\n",
       "      <td>2.014171e+16</td>\n",
       "      <td>7.720400e+17</td>\n",
       "      <td>1.241698e+16</td>\n",
       "      <td>13.126486</td>\n",
       "      <td>10.455433</td>\n",
       "    </tr>\n",
       "    <tr>\n",
       "      <th>std</th>\n",
       "      <td>6.856705e+16</td>\n",
       "      <td>7.582492e+16</td>\n",
       "      <td>1.252797e+17</td>\n",
       "      <td>6.236928e+16</td>\n",
       "      <td>9.599254e+16</td>\n",
       "      <td>45.876648</td>\n",
       "      <td>6.745237</td>\n",
       "    </tr>\n",
       "    <tr>\n",
       "      <th>min</th>\n",
       "      <td>6.660209e+17</td>\n",
       "      <td>6.658147e+17</td>\n",
       "      <td>1.185634e+07</td>\n",
       "      <td>6.661041e+17</td>\n",
       "      <td>7.832140e+05</td>\n",
       "      <td>0.000000</td>\n",
       "      <td>0.000000</td>\n",
       "    </tr>\n",
       "    <tr>\n",
       "      <th>25%</th>\n",
       "      <td>6.783989e+17</td>\n",
       "      <td>6.757419e+17</td>\n",
       "      <td>3.086374e+08</td>\n",
       "      <td>7.186315e+17</td>\n",
       "      <td>4.196984e+09</td>\n",
       "      <td>10.000000</td>\n",
       "      <td>10.000000</td>\n",
       "    </tr>\n",
       "    <tr>\n",
       "      <th>50%</th>\n",
       "      <td>7.196279e+17</td>\n",
       "      <td>7.038708e+17</td>\n",
       "      <td>4.196984e+09</td>\n",
       "      <td>7.804657e+17</td>\n",
       "      <td>4.196984e+09</td>\n",
       "      <td>11.000000</td>\n",
       "      <td>10.000000</td>\n",
       "    </tr>\n",
       "    <tr>\n",
       "      <th>75%</th>\n",
       "      <td>7.993373e+17</td>\n",
       "      <td>8.257804e+17</td>\n",
       "      <td>4.196984e+09</td>\n",
       "      <td>8.203146e+17</td>\n",
       "      <td>4.196984e+09</td>\n",
       "      <td>12.000000</td>\n",
       "      <td>10.000000</td>\n",
       "    </tr>\n",
       "    <tr>\n",
       "      <th>max</th>\n",
       "      <td>8.924206e+17</td>\n",
       "      <td>8.862664e+17</td>\n",
       "      <td>8.405479e+17</td>\n",
       "      <td>8.874740e+17</td>\n",
       "      <td>7.874618e+17</td>\n",
       "      <td>1776.000000</td>\n",
       "      <td>170.000000</td>\n",
       "    </tr>\n",
       "  </tbody>\n",
       "</table>\n",
       "</div>"
      ],
      "text/plain": [
       "           tweet_id  in_reply_to_status_id  in_reply_to_user_id  \\\n",
       "count  2.356000e+03           7.800000e+01         7.800000e+01   \n",
       "mean   7.427716e+17           7.455079e+17         2.014171e+16   \n",
       "std    6.856705e+16           7.582492e+16         1.252797e+17   \n",
       "min    6.660209e+17           6.658147e+17         1.185634e+07   \n",
       "25%    6.783989e+17           6.757419e+17         3.086374e+08   \n",
       "50%    7.196279e+17           7.038708e+17         4.196984e+09   \n",
       "75%    7.993373e+17           8.257804e+17         4.196984e+09   \n",
       "max    8.924206e+17           8.862664e+17         8.405479e+17   \n",
       "\n",
       "       retweeted_status_id  retweeted_status_user_id  rating_numerator  \\\n",
       "count         1.810000e+02              1.810000e+02       2356.000000   \n",
       "mean          7.720400e+17              1.241698e+16         13.126486   \n",
       "std           6.236928e+16              9.599254e+16         45.876648   \n",
       "min           6.661041e+17              7.832140e+05          0.000000   \n",
       "25%           7.186315e+17              4.196984e+09         10.000000   \n",
       "50%           7.804657e+17              4.196984e+09         11.000000   \n",
       "75%           8.203146e+17              4.196984e+09         12.000000   \n",
       "max           8.874740e+17              7.874618e+17       1776.000000   \n",
       "\n",
       "       rating_denominator  \n",
       "count         2356.000000  \n",
       "mean            10.455433  \n",
       "std              6.745237  \n",
       "min              0.000000  \n",
       "25%             10.000000  \n",
       "50%             10.000000  \n",
       "75%             10.000000  \n",
       "max            170.000000  "
      ]
     },
     "execution_count": 52,
     "metadata": {},
     "output_type": "execute_result"
    }
   ],
   "source": [
    "tweet_ar.describe()"
   ]
  },
  {
   "cell_type": "code",
   "execution_count": 10,
   "id": "275be9fa",
   "metadata": {},
   "outputs": [
    {
     "data": {
      "text/plain": [
       "0"
      ]
     },
     "execution_count": 10,
     "metadata": {},
     "output_type": "execute_result"
    }
   ],
   "source": [
    "tweet_ar['tweet_id'].duplicated().sum()"
   ]
  },
  {
   "cell_type": "code",
   "execution_count": 12,
   "id": "bfec4cb8",
   "metadata": {},
   "outputs": [
    {
     "data": {
      "text/plain": [
       "10     2333\n",
       "11        3\n",
       "50        3\n",
       "20        2\n",
       "80        2\n",
       "0         1\n",
       "120       1\n",
       "7         1\n",
       "170       1\n",
       "150       1\n",
       "130       1\n",
       "90        1\n",
       "110       1\n",
       "2         1\n",
       "70        1\n",
       "40        1\n",
       "16        1\n",
       "15        1\n",
       "Name: rating_denominator, dtype: int64"
      ]
     },
     "execution_count": 12,
     "metadata": {},
     "output_type": "execute_result"
    }
   ],
   "source": [
    "tweet_ar['rating_denominator'].value_counts()"
   ]
  },
  {
   "cell_type": "code",
   "execution_count": 25,
   "id": "5adcffe6",
   "metadata": {},
   "outputs": [
    {
     "data": {
      "text/plain": [
       "137"
      ]
     },
     "execution_count": 25,
     "metadata": {},
     "output_type": "execute_result"
    }
   ],
   "source": [
    "tweet_ar['expanded_urls'].duplicated().sum()"
   ]
  },
  {
   "cell_type": "code",
   "execution_count": 16,
   "id": "da2a2b56",
   "metadata": {},
   "outputs": [
    {
     "data": {
      "text/plain": [
       "0"
      ]
     },
     "execution_count": 16,
     "metadata": {},
     "output_type": "execute_result"
    }
   ],
   "source": [
    "tweet_ar['name'].isnull().sum()"
   ]
  },
  {
   "cell_type": "code",
   "execution_count": 7,
   "id": "539be9b1",
   "metadata": {},
   "outputs": [
    {
     "data": {
      "text/plain": [
       "a               55\n",
       "actually         2\n",
       "all              1\n",
       "an               7\n",
       "by               1\n",
       "getting          2\n",
       "his              1\n",
       "incredibly       1\n",
       "infuriating      1\n",
       "just             4\n",
       "life             1\n",
       "light            1\n",
       "mad              2\n",
       "my               1\n",
       "not              2\n",
       "officially       1\n",
       "old              1\n",
       "one              4\n",
       "quite            4\n",
       "space            1\n",
       "such             1\n",
       "the              8\n",
       "this             1\n",
       "unacceptable     1\n",
       "very             5\n",
       "Name: name, dtype: int64"
      ]
     },
     "execution_count": 7,
     "metadata": {},
     "output_type": "execute_result"
    }
   ],
   "source": [
    "m = tweet_ar.name.str.contains('^[a-z]', regex = True)\n",
    "tweet_ar[m].name.value_counts().sort_index()"
   ]
  },
  {
   "cell_type": "code",
   "execution_count": 12,
   "id": "76726caa",
   "metadata": {},
   "outputs": [],
   "source": [
    "non_empty = tweet_ar[tweet_ar['in_reply_to_status_id'].notnull()]"
   ]
  },
  {
   "cell_type": "markdown",
   "id": "d240b919",
   "metadata": {},
   "source": [
    "## Tweet image predictions"
   ]
  },
  {
   "cell_type": "code",
   "execution_count": 7,
   "id": "b2cc2bc4",
   "metadata": {},
   "outputs": [
    {
     "data": {
      "text/html": [
       "<div>\n",
       "<style scoped>\n",
       "    .dataframe tbody tr th:only-of-type {\n",
       "        vertical-align: middle;\n",
       "    }\n",
       "\n",
       "    .dataframe tbody tr th {\n",
       "        vertical-align: top;\n",
       "    }\n",
       "\n",
       "    .dataframe thead th {\n",
       "        text-align: right;\n",
       "    }\n",
       "</style>\n",
       "<table border=\"1\" class=\"dataframe\">\n",
       "  <thead>\n",
       "    <tr style=\"text-align: right;\">\n",
       "      <th></th>\n",
       "      <th>tweet_id</th>\n",
       "      <th>jpg_url</th>\n",
       "      <th>img_num</th>\n",
       "      <th>p1</th>\n",
       "      <th>p1_conf</th>\n",
       "      <th>p1_dog</th>\n",
       "      <th>p2</th>\n",
       "      <th>p2_conf</th>\n",
       "      <th>p2_dog</th>\n",
       "      <th>p3</th>\n",
       "      <th>p3_conf</th>\n",
       "      <th>p3_dog</th>\n",
       "    </tr>\n",
       "  </thead>\n",
       "  <tbody>\n",
       "    <tr>\n",
       "      <th>611</th>\n",
       "      <td>680115823365742593</td>\n",
       "      <td>https://pbs.twimg.com/media/CXBBurSWMAELewi.jpg</td>\n",
       "      <td>1</td>\n",
       "      <td>pug</td>\n",
       "      <td>0.999365</td>\n",
       "      <td>True</td>\n",
       "      <td>French_bulldog</td>\n",
       "      <td>0.000544</td>\n",
       "      <td>True</td>\n",
       "      <td>Boston_bull</td>\n",
       "      <td>0.000028</td>\n",
       "      <td>True</td>\n",
       "    </tr>\n",
       "    <tr>\n",
       "      <th>333</th>\n",
       "      <td>672160042234327040</td>\n",
       "      <td>https://pbs.twimg.com/media/CVP9_beUEAAwURR.jpg</td>\n",
       "      <td>1</td>\n",
       "      <td>pug</td>\n",
       "      <td>0.561027</td>\n",
       "      <td>True</td>\n",
       "      <td>French_bulldog</td>\n",
       "      <td>0.222114</td>\n",
       "      <td>True</td>\n",
       "      <td>Labrador_retriever</td>\n",
       "      <td>0.065456</td>\n",
       "      <td>True</td>\n",
       "    </tr>\n",
       "    <tr>\n",
       "      <th>747</th>\n",
       "      <td>687704180304273409</td>\n",
       "      <td>https://pbs.twimg.com/media/CYs3TKzUAAAF9A2.jpg</td>\n",
       "      <td>1</td>\n",
       "      <td>miniature_pinscher</td>\n",
       "      <td>0.956063</td>\n",
       "      <td>True</td>\n",
       "      <td>toy_terrier</td>\n",
       "      <td>0.012231</td>\n",
       "      <td>True</td>\n",
       "      <td>Chihuahua</td>\n",
       "      <td>0.005397</td>\n",
       "      <td>True</td>\n",
       "    </tr>\n",
       "    <tr>\n",
       "      <th>1541</th>\n",
       "      <td>791026214425268224</td>\n",
       "      <td>https://pbs.twimg.com/media/CpmyNumW8AAAJGj.jpg</td>\n",
       "      <td>1</td>\n",
       "      <td>malamute</td>\n",
       "      <td>0.375098</td>\n",
       "      <td>True</td>\n",
       "      <td>jean</td>\n",
       "      <td>0.069362</td>\n",
       "      <td>False</td>\n",
       "      <td>keeshond</td>\n",
       "      <td>0.050528</td>\n",
       "      <td>True</td>\n",
       "    </tr>\n",
       "    <tr>\n",
       "      <th>1199</th>\n",
       "      <td>740711788199743490</td>\n",
       "      <td>https://pbs.twimg.com/media/CkeJcNkXEAAcrks.jpg</td>\n",
       "      <td>1</td>\n",
       "      <td>toy_poodle</td>\n",
       "      <td>0.388277</td>\n",
       "      <td>True</td>\n",
       "      <td>Angora</td>\n",
       "      <td>0.180264</td>\n",
       "      <td>False</td>\n",
       "      <td>Persian_cat</td>\n",
       "      <td>0.049656</td>\n",
       "      <td>False</td>\n",
       "    </tr>\n",
       "  </tbody>\n",
       "</table>\n",
       "</div>"
      ],
      "text/plain": [
       "                tweet_id                                          jpg_url  \\\n",
       "611   680115823365742593  https://pbs.twimg.com/media/CXBBurSWMAELewi.jpg   \n",
       "333   672160042234327040  https://pbs.twimg.com/media/CVP9_beUEAAwURR.jpg   \n",
       "747   687704180304273409  https://pbs.twimg.com/media/CYs3TKzUAAAF9A2.jpg   \n",
       "1541  791026214425268224  https://pbs.twimg.com/media/CpmyNumW8AAAJGj.jpg   \n",
       "1199  740711788199743490  https://pbs.twimg.com/media/CkeJcNkXEAAcrks.jpg   \n",
       "\n",
       "      img_num                  p1   p1_conf  p1_dog              p2   p2_conf  \\\n",
       "611         1                 pug  0.999365    True  French_bulldog  0.000544   \n",
       "333         1                 pug  0.561027    True  French_bulldog  0.222114   \n",
       "747         1  miniature_pinscher  0.956063    True     toy_terrier  0.012231   \n",
       "1541        1            malamute  0.375098    True            jean  0.069362   \n",
       "1199        1          toy_poodle  0.388277    True          Angora  0.180264   \n",
       "\n",
       "      p2_dog                  p3   p3_conf  p3_dog  \n",
       "611     True         Boston_bull  0.000028    True  \n",
       "333     True  Labrador_retriever  0.065456    True  \n",
       "747     True           Chihuahua  0.005397    True  \n",
       "1541   False            keeshond  0.050528    True  \n",
       "1199   False         Persian_cat  0.049656   False  "
      ]
     },
     "execution_count": 7,
     "metadata": {},
     "output_type": "execute_result"
    }
   ],
   "source": [
    "images.sample(5)"
   ]
  },
  {
   "cell_type": "code",
   "execution_count": 8,
   "id": "104e8f92",
   "metadata": {},
   "outputs": [
    {
     "name": "stdout",
     "output_type": "stream",
     "text": [
      "<class 'pandas.core.frame.DataFrame'>\n",
      "RangeIndex: 2075 entries, 0 to 2074\n",
      "Data columns (total 12 columns):\n",
      " #   Column    Non-Null Count  Dtype  \n",
      "---  ------    --------------  -----  \n",
      " 0   tweet_id  2075 non-null   int64  \n",
      " 1   jpg_url   2075 non-null   object \n",
      " 2   img_num   2075 non-null   int64  \n",
      " 3   p1        2075 non-null   object \n",
      " 4   p1_conf   2075 non-null   float64\n",
      " 5   p1_dog    2075 non-null   bool   \n",
      " 6   p2        2075 non-null   object \n",
      " 7   p2_conf   2075 non-null   float64\n",
      " 8   p2_dog    2075 non-null   bool   \n",
      " 9   p3        2075 non-null   object \n",
      " 10  p3_conf   2075 non-null   float64\n",
      " 11  p3_dog    2075 non-null   bool   \n",
      "dtypes: bool(3), float64(3), int64(2), object(4)\n",
      "memory usage: 152.1+ KB\n"
     ]
    }
   ],
   "source": [
    "images.info()"
   ]
  },
  {
   "cell_type": "code",
   "execution_count": 13,
   "id": "c141caaf",
   "metadata": {},
   "outputs": [
    {
     "data": {
      "text/plain": [
       "66"
      ]
     },
     "execution_count": 13,
     "metadata": {},
     "output_type": "execute_result"
    }
   ],
   "source": [
    "images['jpg_url'].duplicated().sum()"
   ]
  },
  {
   "cell_type": "markdown",
   "id": "3096e24b",
   "metadata": {},
   "source": [
    "### Twitter API dataset"
   ]
  },
  {
   "cell_type": "code",
   "execution_count": 21,
   "id": "af807b89",
   "metadata": {},
   "outputs": [
    {
     "data": {
      "text/html": [
       "<div>\n",
       "<style scoped>\n",
       "    .dataframe tbody tr th:only-of-type {\n",
       "        vertical-align: middle;\n",
       "    }\n",
       "\n",
       "    .dataframe tbody tr th {\n",
       "        vertical-align: top;\n",
       "    }\n",
       "\n",
       "    .dataframe thead th {\n",
       "        text-align: right;\n",
       "    }\n",
       "</style>\n",
       "<table border=\"1\" class=\"dataframe\">\n",
       "  <thead>\n",
       "    <tr style=\"text-align: right;\">\n",
       "      <th></th>\n",
       "      <th>tweet_id</th>\n",
       "      <th>favorites</th>\n",
       "      <th>retweets</th>\n",
       "    </tr>\n",
       "  </thead>\n",
       "  <tbody>\n",
       "    <tr>\n",
       "      <th>954</th>\n",
       "      <td>749417653287129088</td>\n",
       "      <td>5840</td>\n",
       "      <td>1547</td>\n",
       "    </tr>\n",
       "    <tr>\n",
       "      <th>503</th>\n",
       "      <td>809920764300447744</td>\n",
       "      <td>15128</td>\n",
       "      <td>3782</td>\n",
       "    </tr>\n",
       "    <tr>\n",
       "      <th>213</th>\n",
       "      <td>849412302885593088</td>\n",
       "      <td>15006</td>\n",
       "      <td>2912</td>\n",
       "    </tr>\n",
       "    <tr>\n",
       "      <th>2289</th>\n",
       "      <td>666644823164719104</td>\n",
       "      <td>213</td>\n",
       "      <td>72</td>\n",
       "    </tr>\n",
       "    <tr>\n",
       "      <th>2317</th>\n",
       "      <td>666063827256086533</td>\n",
       "      <td>418</td>\n",
       "      <td>185</td>\n",
       "    </tr>\n",
       "  </tbody>\n",
       "</table>\n",
       "</div>"
      ],
      "text/plain": [
       "                tweet_id  favorites  retweets\n",
       "954   749417653287129088       5840      1547\n",
       "503   809920764300447744      15128      3782\n",
       "213   849412302885593088      15006      2912\n",
       "2289  666644823164719104        213        72\n",
       "2317  666063827256086533        418       185"
      ]
     },
     "execution_count": 21,
     "metadata": {},
     "output_type": "execute_result"
    }
   ],
   "source": [
    "df.sample(5)"
   ]
  },
  {
   "cell_type": "code",
   "execution_count": 22,
   "id": "4c2762b3",
   "metadata": {},
   "outputs": [
    {
     "data": {
      "text/html": [
       "<div>\n",
       "<style scoped>\n",
       "    .dataframe tbody tr th:only-of-type {\n",
       "        vertical-align: middle;\n",
       "    }\n",
       "\n",
       "    .dataframe tbody tr th {\n",
       "        vertical-align: top;\n",
       "    }\n",
       "\n",
       "    .dataframe thead th {\n",
       "        text-align: right;\n",
       "    }\n",
       "</style>\n",
       "<table border=\"1\" class=\"dataframe\">\n",
       "  <thead>\n",
       "    <tr style=\"text-align: right;\">\n",
       "      <th></th>\n",
       "      <th>tweet_id</th>\n",
       "      <th>favorites</th>\n",
       "      <th>retweets</th>\n",
       "    </tr>\n",
       "  </thead>\n",
       "  <tbody>\n",
       "    <tr>\n",
       "      <th>count</th>\n",
       "      <td>2.328000e+03</td>\n",
       "      <td>2328.000000</td>\n",
       "      <td>2328.000000</td>\n",
       "    </tr>\n",
       "    <tr>\n",
       "      <th>mean</th>\n",
       "      <td>7.418403e+17</td>\n",
       "      <td>7218.437715</td>\n",
       "      <td>2539.631873</td>\n",
       "    </tr>\n",
       "    <tr>\n",
       "      <th>std</th>\n",
       "      <td>6.823143e+16</td>\n",
       "      <td>11212.812341</td>\n",
       "      <td>4300.249283</td>\n",
       "    </tr>\n",
       "    <tr>\n",
       "      <th>min</th>\n",
       "      <td>6.660209e+17</td>\n",
       "      <td>0.000000</td>\n",
       "      <td>1.000000</td>\n",
       "    </tr>\n",
       "    <tr>\n",
       "      <th>25%</th>\n",
       "      <td>6.781974e+17</td>\n",
       "      <td>1254.750000</td>\n",
       "      <td>512.000000</td>\n",
       "    </tr>\n",
       "    <tr>\n",
       "      <th>50%</th>\n",
       "      <td>7.180382e+17</td>\n",
       "      <td>3125.500000</td>\n",
       "      <td>1183.000000</td>\n",
       "    </tr>\n",
       "    <tr>\n",
       "      <th>75%</th>\n",
       "      <td>7.986673e+17</td>\n",
       "      <td>8810.000000</td>\n",
       "      <td>2938.750000</td>\n",
       "    </tr>\n",
       "    <tr>\n",
       "      <th>max</th>\n",
       "      <td>8.924206e+17</td>\n",
       "      <td>148287.000000</td>\n",
       "      <td>72815.000000</td>\n",
       "    </tr>\n",
       "  </tbody>\n",
       "</table>\n",
       "</div>"
      ],
      "text/plain": [
       "           tweet_id      favorites      retweets\n",
       "count  2.328000e+03    2328.000000   2328.000000\n",
       "mean   7.418403e+17    7218.437715   2539.631873\n",
       "std    6.823143e+16   11212.812341   4300.249283\n",
       "min    6.660209e+17       0.000000      1.000000\n",
       "25%    6.781974e+17    1254.750000    512.000000\n",
       "50%    7.180382e+17    3125.500000   1183.000000\n",
       "75%    7.986673e+17    8810.000000   2938.750000\n",
       "max    8.924206e+17  148287.000000  72815.000000"
      ]
     },
     "execution_count": 22,
     "metadata": {},
     "output_type": "execute_result"
    }
   ],
   "source": [
    "df.describe()"
   ]
  },
  {
   "cell_type": "code",
   "execution_count": 24,
   "id": "d3bcee70",
   "metadata": {},
   "outputs": [
    {
     "data": {
      "text/plain": [
       "tweet_id     0\n",
       "favorites    0\n",
       "retweets     0\n",
       "dtype: int64"
      ]
     },
     "execution_count": 24,
     "metadata": {},
     "output_type": "execute_result"
    }
   ],
   "source": [
    "df.isnull().sum()"
   ]
  },
  {
   "cell_type": "code",
   "execution_count": 6,
   "id": "ca3b64e2",
   "metadata": {},
   "outputs": [
    {
     "name": "stdout",
     "output_type": "stream",
     "text": [
      "<class 'pandas.core.frame.DataFrame'>\n",
      "RangeIndex: 2328 entries, 0 to 2327\n",
      "Data columns (total 3 columns):\n",
      " #   Column     Non-Null Count  Dtype\n",
      "---  ------     --------------  -----\n",
      " 0   tweet_id   2328 non-null   int64\n",
      " 1   favorites  2328 non-null   int64\n",
      " 2   retweets   2328 non-null   int64\n",
      "dtypes: int64(3)\n",
      "memory usage: 54.7 KB\n"
     ]
    }
   ],
   "source": [
    "df.info()"
   ]
  },
  {
   "cell_type": "markdown",
   "id": "972d2c6f",
   "metadata": {},
   "source": [
    "## Quality issues in all datasets. "
   ]
  },
  {
   "cell_type": "markdown",
   "id": "d6b8f786",
   "metadata": {},
   "source": [
    "- 'None' or np.NaN insted of string\n",
    "- Unuseful columns such as : in_reply_to_status_id , in_reply_to_user_id,\tretweeted_status_id,retweeted_status_user_id\n",
    "- duplicated url in Enhanced Twitter Archive\n",
    "- duplicated url in tweet image predictions\n",
    "- inconsistency of names with capital letters and small letters \n",
    "- invalid Dog names \n",
    "- invalid rating_denominator \n",
    "- Remove HTML tags "
   ]
  },
  {
   "cell_type": "markdown",
   "id": "70f4e6d1",
   "metadata": {},
   "source": [
    "## Tidness issues"
   ]
  },
  {
   "cell_type": "markdown",
   "id": "6c87eab6",
   "metadata": {},
   "source": [
    "- three tables should be one table. \n",
    "- dog types columns: doggo, floofer,pupper, puppo should be in one column called stages"
   ]
  },
  {
   "cell_type": "markdown",
   "id": "2f99f602",
   "metadata": {},
   "source": [
    "## Step3. Cleaning"
   ]
  },
  {
   "cell_type": "code",
   "execution_count": 31,
   "id": "d5a369ef",
   "metadata": {},
   "outputs": [],
   "source": [
    "tweet_d = tweet_ar.copy()\n",
    "image_d = images.copy()\n",
    "refav_d = df.copy()"
   ]
  },
  {
   "cell_type": "markdown",
   "id": "e1d45d8e",
   "metadata": {},
   "source": [
    "### Define"
   ]
  },
  {
   "cell_type": "markdown",
   "id": "eadced12",
   "metadata": {},
   "source": [
    "merge tweet_d with refav_d which include count of retweets and favorites. "
   ]
  },
  {
   "cell_type": "markdown",
   "id": "b52fb987",
   "metadata": {},
   "source": [
    "### Code"
   ]
  },
  {
   "cell_type": "code",
   "execution_count": 32,
   "id": "319149d1",
   "metadata": {},
   "outputs": [],
   "source": [
    "tweet_d = tweet_d.merge(refav_d, on = 'tweet_id' )"
   ]
  },
  {
   "cell_type": "markdown",
   "id": "7352bfbe",
   "metadata": {},
   "source": [
    "### Test"
   ]
  },
  {
   "cell_type": "code",
   "execution_count": 33,
   "id": "fc06629b",
   "metadata": {},
   "outputs": [
    {
     "name": "stdout",
     "output_type": "stream",
     "text": [
      "<class 'pandas.core.frame.DataFrame'>\n",
      "Int64Index: 2328 entries, 0 to 2327\n",
      "Data columns (total 19 columns):\n",
      " #   Column                      Non-Null Count  Dtype  \n",
      "---  ------                      --------------  -----  \n",
      " 0   tweet_id                    2328 non-null   int64  \n",
      " 1   in_reply_to_status_id       78 non-null     float64\n",
      " 2   in_reply_to_user_id         78 non-null     float64\n",
      " 3   timestamp                   2328 non-null   object \n",
      " 4   source                      2328 non-null   object \n",
      " 5   text                        2328 non-null   object \n",
      " 6   retweeted_status_id         161 non-null    float64\n",
      " 7   retweeted_status_user_id    161 non-null    float64\n",
      " 8   retweeted_status_timestamp  161 non-null    object \n",
      " 9   expanded_urls               2270 non-null   object \n",
      " 10  rating_numerator            2328 non-null   int64  \n",
      " 11  rating_denominator          2328 non-null   int64  \n",
      " 12  name                        2328 non-null   object \n",
      " 13  doggo                       2328 non-null   object \n",
      " 14  floofer                     2328 non-null   object \n",
      " 15  pupper                      2328 non-null   object \n",
      " 16  puppo                       2328 non-null   object \n",
      " 17  favorites                   2328 non-null   int64  \n",
      " 18  retweets                    2328 non-null   int64  \n",
      "dtypes: float64(4), int64(5), object(10)\n",
      "memory usage: 363.8+ KB\n"
     ]
    }
   ],
   "source": [
    "tweet_d.info()"
   ]
  },
  {
   "cell_type": "markdown",
   "id": "1243a317",
   "metadata": {},
   "source": [
    "### Define "
   ]
  },
  {
   "cell_type": "markdown",
   "id": "b1b9569d",
   "metadata": {},
   "source": [
    "merge tweet_d with image_d dataset"
   ]
  },
  {
   "cell_type": "markdown",
   "id": "92a38ec7",
   "metadata": {},
   "source": [
    "### Code"
   ]
  },
  {
   "cell_type": "code",
   "execution_count": 34,
   "id": "4c2a8558",
   "metadata": {},
   "outputs": [],
   "source": [
    "tweet_d = tweet_d.merge(image_d, on = 'tweet_id' )"
   ]
  },
  {
   "cell_type": "markdown",
   "id": "61f15fad",
   "metadata": {},
   "source": [
    "### Test"
   ]
  },
  {
   "cell_type": "code",
   "execution_count": 35,
   "id": "769a2ede",
   "metadata": {},
   "outputs": [
    {
     "name": "stdout",
     "output_type": "stream",
     "text": [
      "<class 'pandas.core.frame.DataFrame'>\n",
      "Int64Index: 2058 entries, 0 to 2057\n",
      "Data columns (total 30 columns):\n",
      " #   Column                      Non-Null Count  Dtype  \n",
      "---  ------                      --------------  -----  \n",
      " 0   tweet_id                    2058 non-null   int64  \n",
      " 1   in_reply_to_status_id       23 non-null     float64\n",
      " 2   in_reply_to_user_id         23 non-null     float64\n",
      " 3   timestamp                   2058 non-null   object \n",
      " 4   source                      2058 non-null   object \n",
      " 5   text                        2058 non-null   object \n",
      " 6   retweeted_status_id         72 non-null     float64\n",
      " 7   retweeted_status_user_id    72 non-null     float64\n",
      " 8   retweeted_status_timestamp  72 non-null     object \n",
      " 9   expanded_urls               2058 non-null   object \n",
      " 10  rating_numerator            2058 non-null   int64  \n",
      " 11  rating_denominator          2058 non-null   int64  \n",
      " 12  name                        2058 non-null   object \n",
      " 13  doggo                       2058 non-null   object \n",
      " 14  floofer                     2058 non-null   object \n",
      " 15  pupper                      2058 non-null   object \n",
      " 16  puppo                       2058 non-null   object \n",
      " 17  favorites                   2058 non-null   int64  \n",
      " 18  retweets                    2058 non-null   int64  \n",
      " 19  jpg_url                     2058 non-null   object \n",
      " 20  img_num                     2058 non-null   int64  \n",
      " 21  p1                          2058 non-null   object \n",
      " 22  p1_conf                     2058 non-null   float64\n",
      " 23  p1_dog                      2058 non-null   bool   \n",
      " 24  p2                          2058 non-null   object \n",
      " 25  p2_conf                     2058 non-null   float64\n",
      " 26  p2_dog                      2058 non-null   bool   \n",
      " 27  p3                          2058 non-null   object \n",
      " 28  p3_conf                     2058 non-null   float64\n",
      " 29  p3_dog                      2058 non-null   bool   \n",
      "dtypes: bool(3), float64(7), int64(6), object(14)\n",
      "memory usage: 456.2+ KB\n"
     ]
    }
   ],
   "source": [
    "tweet_d.info()"
   ]
  },
  {
   "cell_type": "markdown",
   "id": "9f385d3b",
   "metadata": {},
   "source": [
    "### Define"
   ]
  },
  {
   "cell_type": "markdown",
   "id": "b07266f0",
   "metadata": {},
   "source": [
    "convert 'None' or np.NaN to empty string "
   ]
  },
  {
   "cell_type": "code",
   "execution_count": 36,
   "id": "dbd0462e",
   "metadata": {},
   "outputs": [],
   "source": [
    "tweet_d.doggo.replace('None', '', inplace=True) and tweet_d.doggo.replace(np.NaN, '', inplace=True)"
   ]
  },
  {
   "cell_type": "code",
   "execution_count": 37,
   "id": "e042384a",
   "metadata": {},
   "outputs": [],
   "source": [
    "tweet_d.floofer.replace('None', '', inplace=True) and tweet_d.floofer.replace(np.NaN, '', inplace=True)"
   ]
  },
  {
   "cell_type": "code",
   "execution_count": 38,
   "id": "5d46010c",
   "metadata": {},
   "outputs": [],
   "source": [
    "tweet_d.pupper.replace('None', '', inplace=True) and tweet_d.pupper.replace(np.NaN, '', inplace=True)"
   ]
  },
  {
   "cell_type": "code",
   "execution_count": 39,
   "id": "34b5d90b",
   "metadata": {},
   "outputs": [],
   "source": [
    "tweet_d.puppo.replace('None', '', inplace=True) and tweet_d.puppo.replace(np.NaN, '', inplace=True)"
   ]
  },
  {
   "cell_type": "markdown",
   "id": "ba7dae58",
   "metadata": {},
   "source": [
    "### Test"
   ]
  },
  {
   "cell_type": "code",
   "execution_count": 119,
   "id": "3112a5aa",
   "metadata": {},
   "outputs": [
    {
     "data": {
      "text/plain": [
       "0"
      ]
     },
     "execution_count": 119,
     "metadata": {},
     "output_type": "execute_result"
    }
   ],
   "source": [
    "len(tweet_d[tweet_d.doggo == 'None'])"
   ]
  },
  {
   "cell_type": "code",
   "execution_count": 120,
   "id": "f3788799",
   "metadata": {},
   "outputs": [
    {
     "data": {
      "text/plain": [
       "0"
      ]
     },
     "execution_count": 120,
     "metadata": {},
     "output_type": "execute_result"
    }
   ],
   "source": [
    "len(tweet_d[tweet_d.floofer == 'None'])"
   ]
  },
  {
   "cell_type": "code",
   "execution_count": 121,
   "id": "0666f999",
   "metadata": {},
   "outputs": [
    {
     "data": {
      "text/plain": [
       "0"
      ]
     },
     "execution_count": 121,
     "metadata": {},
     "output_type": "execute_result"
    }
   ],
   "source": [
    "len(tweet_d[tweet_d.pupper == 'None'])"
   ]
  },
  {
   "cell_type": "code",
   "execution_count": 122,
   "id": "f5d21f83",
   "metadata": {},
   "outputs": [
    {
     "data": {
      "text/plain": [
       "0"
      ]
     },
     "execution_count": 122,
     "metadata": {},
     "output_type": "execute_result"
    }
   ],
   "source": [
    "len(tweet_d[tweet_d.puppo == 'None'])"
   ]
  },
  {
   "cell_type": "markdown",
   "id": "d2580820",
   "metadata": {},
   "source": [
    "### Define"
   ]
  },
  {
   "cell_type": "markdown",
   "id": "2db9729f",
   "metadata": {},
   "source": [
    "Make all the columns of dog stages into one column called stages"
   ]
  },
  {
   "cell_type": "markdown",
   "id": "9a6a62dd",
   "metadata": {},
   "source": [
    "### Code"
   ]
  },
  {
   "cell_type": "code",
   "execution_count": 40,
   "id": "c77ebf07",
   "metadata": {},
   "outputs": [],
   "source": [
    "tweet_d['stage'] = tweet_d.doggo + tweet_d.floofer + tweet_d.pupper + tweet_d.puppo\n",
    "tweet_d.loc[tweet_d.stage == 'doggopupper', 'stage'] = 'doggo, pupper'\n",
    "tweet_d.loc[tweet_d.stage == 'doggopuppo', 'stage'] = 'doggo, puppo'\n",
    "tweet_d.loc[tweet_d.stage == 'doggofloofer', 'stage'] = 'doggo, floofer'"
   ]
  },
  {
   "cell_type": "markdown",
   "id": "4395cfc4",
   "metadata": {},
   "source": [
    "### Test"
   ]
  },
  {
   "cell_type": "code",
   "execution_count": 45,
   "id": "6b2a87ae",
   "metadata": {},
   "outputs": [
    {
     "data": {
      "text/plain": [
       "                  1740\n",
       "pupper             210\n",
       "doggo               65\n",
       "puppo               23\n",
       "doggo, pupper       11\n",
       "floofer              7\n",
       "doggo, floofer       1\n",
       "doggo, puppo         1\n",
       "Name: stage, dtype: int64"
      ]
     },
     "execution_count": 45,
     "metadata": {},
     "output_type": "execute_result"
    }
   ],
   "source": [
    "tweet_d.stage.value_counts()"
   ]
  },
  {
   "cell_type": "markdown",
   "id": "def60e6f",
   "metadata": {},
   "source": [
    "### Define"
   ]
  },
  {
   "cell_type": "markdown",
   "id": "6eeadfed",
   "metadata": {},
   "source": [
    "Drop all unuseful Columns"
   ]
  },
  {
   "cell_type": "markdown",
   "id": "ff1c9c86",
   "metadata": {},
   "source": [
    "### Code"
   ]
  },
  {
   "cell_type": "code",
   "execution_count": 61,
   "id": "95190c66",
   "metadata": {},
   "outputs": [],
   "source": [
    "tweet_d.drop(columns = ['in_reply_to_status_id','in_reply_to_user_id', 'retweeted_status_id', 'retweeted_status_user_id'], axis = 1 , inplace = True)"
   ]
  },
  {
   "cell_type": "markdown",
   "id": "b5de0e02",
   "metadata": {},
   "source": [
    "### Test"
   ]
  },
  {
   "cell_type": "code",
   "execution_count": 62,
   "id": "ace688cf",
   "metadata": {},
   "outputs": [
    {
     "name": "stdout",
     "output_type": "stream",
     "text": [
      "<class 'pandas.core.frame.DataFrame'>\n",
      "Int64Index: 1963 entries, 0 to 2057\n",
      "Data columns (total 27 columns):\n",
      " #   Column                      Non-Null Count  Dtype  \n",
      "---  ------                      --------------  -----  \n",
      " 0   tweet_id                    1963 non-null   int64  \n",
      " 1   timestamp                   1963 non-null   object \n",
      " 2   source                      1963 non-null   object \n",
      " 3   text                        1963 non-null   object \n",
      " 4   retweeted_status_timestamp  0 non-null      object \n",
      " 5   expanded_urls               1963 non-null   object \n",
      " 6   rating_numerator            1963 non-null   int64  \n",
      " 7   rating_denominator          1963 non-null   int64  \n",
      " 8   name                        1963 non-null   object \n",
      " 9   doggo                       1963 non-null   object \n",
      " 10  floofer                     1963 non-null   object \n",
      " 11  pupper                      1963 non-null   object \n",
      " 12  puppo                       1963 non-null   object \n",
      " 13  favorites                   1963 non-null   int64  \n",
      " 14  retweets                    1963 non-null   int64  \n",
      " 15  jpg_url                     1963 non-null   object \n",
      " 16  img_num                     1963 non-null   int64  \n",
      " 17  p1                          1963 non-null   object \n",
      " 18  p1_conf                     1963 non-null   float64\n",
      " 19  p1_dog                      1963 non-null   bool   \n",
      " 20  p2                          1963 non-null   object \n",
      " 21  p2_conf                     1963 non-null   float64\n",
      " 22  p2_dog                      1963 non-null   bool   \n",
      " 23  p3                          1963 non-null   object \n",
      " 24  p3_conf                     1963 non-null   float64\n",
      " 25  p3_dog                      1963 non-null   bool   \n",
      " 26  stage                       1963 non-null   object \n",
      "dtypes: bool(3), float64(3), int64(6), object(15)\n",
      "memory usage: 453.7+ KB\n"
     ]
    }
   ],
   "source": [
    "tweet_d.info()"
   ]
  },
  {
   "cell_type": "markdown",
   "id": "6c2461cd",
   "metadata": {},
   "source": [
    "### Define"
   ]
  },
  {
   "cell_type": "markdown",
   "id": "1b16647a",
   "metadata": {},
   "source": [
    "Drop null values in expanded_urls "
   ]
  },
  {
   "cell_type": "markdown",
   "id": "265cfd91",
   "metadata": {},
   "source": [
    "### Code"
   ]
  },
  {
   "cell_type": "code",
   "execution_count": 123,
   "id": "f6d59cbc",
   "metadata": {},
   "outputs": [],
   "source": [
    "tweet_d = tweet_d.drop_duplicates('expanded_urls')"
   ]
  },
  {
   "cell_type": "markdown",
   "id": "47ee5f05",
   "metadata": {},
   "source": [
    "### Test"
   ]
  },
  {
   "cell_type": "code",
   "execution_count": 124,
   "id": "881e11ce",
   "metadata": {},
   "outputs": [
    {
     "data": {
      "text/plain": [
       "0"
      ]
     },
     "execution_count": 124,
     "metadata": {},
     "output_type": "execute_result"
    }
   ],
   "source": [
    "tweet_d['expanded_urls'].duplicated().sum()"
   ]
  },
  {
   "cell_type": "markdown",
   "id": "52420164",
   "metadata": {},
   "source": [
    "### Define"
   ]
  },
  {
   "cell_type": "markdown",
   "id": "b1f587ed",
   "metadata": {},
   "source": [
    "Drop null values in jpg_url "
   ]
  },
  {
   "cell_type": "markdown",
   "id": "1b9e7406",
   "metadata": {},
   "source": [
    "### Code"
   ]
  },
  {
   "cell_type": "code",
   "execution_count": 125,
   "id": "c44e2518",
   "metadata": {},
   "outputs": [],
   "source": [
    "tweet_d = tweet_d.drop_duplicates('jpg_url')"
   ]
  },
  {
   "cell_type": "markdown",
   "id": "16420eaf",
   "metadata": {},
   "source": [
    "### Test"
   ]
  },
  {
   "cell_type": "code",
   "execution_count": 126,
   "id": "c0ef295a",
   "metadata": {},
   "outputs": [
    {
     "data": {
      "text/plain": [
       "0"
      ]
     },
     "execution_count": 126,
     "metadata": {},
     "output_type": "execute_result"
    }
   ],
   "source": [
    "tweet_d['jpg_url'].duplicated().sum()"
   ]
  },
  {
   "cell_type": "markdown",
   "id": "a4edd4e3",
   "metadata": {},
   "source": [
    "### Define"
   ]
  },
  {
   "cell_type": "markdown",
   "id": "55858fda",
   "metadata": {},
   "source": [
    "make all Names Start With Capital letter "
   ]
  },
  {
   "cell_type": "markdown",
   "id": "9dfe2531",
   "metadata": {},
   "source": [
    "### Code"
   ]
  },
  {
   "cell_type": "code",
   "execution_count": 19,
   "id": "8b42ee01",
   "metadata": {},
   "outputs": [
    {
     "data": {
      "text/plain": [
       "0        Phineas\n",
       "1          Tilly\n",
       "2         Archie\n",
       "3          Darla\n",
       "4       Franklin\n",
       "          ...   \n",
       "2053        None\n",
       "2054           A\n",
       "2055           A\n",
       "2056           A\n",
       "2057        None\n",
       "Name: name, Length: 1999, dtype: object"
      ]
     },
     "execution_count": 19,
     "metadata": {},
     "output_type": "execute_result"
    }
   ],
   "source": [
    "tweet_clean.name.str.capitalize()"
   ]
  },
  {
   "cell_type": "markdown",
   "id": "5e0f9cc1",
   "metadata": {},
   "source": [
    "### Test"
   ]
  },
  {
   "cell_type": "code",
   "execution_count": 24,
   "id": "a2d74382",
   "metadata": {},
   "outputs": [
    {
     "data": {
      "text/plain": [
       "415       Wallace\n",
       "45        Stanley\n",
       "983        Flávio\n",
       "1033         None\n",
       "891          None\n",
       "1799      Traviss\n",
       "1969    Naphaniel\n",
       "2009         None\n",
       "961         Derek\n",
       "52          Louis\n",
       "Name: name, dtype: object"
      ]
     },
     "execution_count": 24,
     "metadata": {},
     "output_type": "execute_result"
    }
   ],
   "source": [
    "tweet_clean['name'].sample(10)"
   ]
  },
  {
   "cell_type": "markdown",
   "id": "732a016f",
   "metadata": {},
   "source": [
    "### Define "
   ]
  },
  {
   "cell_type": "markdown",
   "id": "f3f4b440",
   "metadata": {},
   "source": [
    "make all names >= 3 letter to avoid uncommon names such as : aa , a , .. "
   ]
  },
  {
   "cell_type": "code",
   "execution_count": 94,
   "id": "c68fb403",
   "metadata": {},
   "outputs": [],
   "source": [
    "tweet_d = tweet_d[tweet_d.name.apply(len) >=  3]"
   ]
  },
  {
   "cell_type": "code",
   "execution_count": 98,
   "id": "62a4b252",
   "metadata": {},
   "outputs": [
    {
     "data": {
      "text/plain": [
       "None        523\n",
       "Oliver       10\n",
       "Charlie      10\n",
       "Cooper       10\n",
       "Lucy          9\n",
       "           ... \n",
       "Hamrick       1\n",
       "Happy         1\n",
       "Jessifer      1\n",
       "Pinot         1\n",
       "Damon         1\n",
       "Name: name, Length: 904, dtype: int64"
      ]
     },
     "execution_count": 98,
     "metadata": {},
     "output_type": "execute_result"
    }
   ],
   "source": [
    "tweet_d.name.value_counts()"
   ]
  },
  {
   "cell_type": "markdown",
   "id": "f04538e1",
   "metadata": {},
   "source": [
    "Change the datatype  from object to datetime"
   ]
  },
  {
   "cell_type": "markdown",
   "id": "b636695f",
   "metadata": {},
   "source": [
    "### Define"
   ]
  },
  {
   "cell_type": "markdown",
   "id": "c01a28f8",
   "metadata": {},
   "source": [
    "change the rating_denominator value to be 10 "
   ]
  },
  {
   "cell_type": "markdown",
   "id": "7fc480ee",
   "metadata": {},
   "source": [
    "### Code"
   ]
  },
  {
   "cell_type": "code",
   "execution_count": 127,
   "id": "39d3f946",
   "metadata": {},
   "outputs": [],
   "source": [
    "tweet_d['rating_denominator'] = 10 "
   ]
  },
  {
   "cell_type": "markdown",
   "id": "17552a71",
   "metadata": {},
   "source": [
    "### Test"
   ]
  },
  {
   "cell_type": "code",
   "execution_count": 128,
   "id": "5ceef451",
   "metadata": {},
   "outputs": [
    {
     "data": {
      "text/plain": [
       "10"
      ]
     },
     "execution_count": 128,
     "metadata": {},
     "output_type": "execute_result"
    }
   ],
   "source": [
    "tweet_d['rating_denominator'].min()"
   ]
  },
  {
   "cell_type": "code",
   "execution_count": 129,
   "id": "9baf0fd1",
   "metadata": {},
   "outputs": [
    {
     "data": {
      "text/plain": [
       "10"
      ]
     },
     "execution_count": 129,
     "metadata": {},
     "output_type": "execute_result"
    }
   ],
   "source": [
    "tweet_d['rating_denominator'].max()"
   ]
  },
  {
   "cell_type": "markdown",
   "id": "8d94967d",
   "metadata": {},
   "source": [
    "### Define"
   ]
  },
  {
   "cell_type": "markdown",
   "id": "07788e3b",
   "metadata": {},
   "source": [
    "Remove html tags"
   ]
  },
  {
   "cell_type": "markdown",
   "id": "1a128122",
   "metadata": {},
   "source": [
    "### Code"
   ]
  },
  {
   "cell_type": "code",
   "execution_count": 99,
   "id": "34c9ac8a",
   "metadata": {},
   "outputs": [],
   "source": [
    "from bs4 import BeautifulSoup\n",
    "tweet_d['source'] = [BeautifulSoup(text).get_text() for text in tweet_d['source'] ]"
   ]
  },
  {
   "cell_type": "markdown",
   "id": "34dc4cda",
   "metadata": {},
   "source": [
    "### Test"
   ]
  },
  {
   "cell_type": "code",
   "execution_count": 100,
   "id": "42d0e067",
   "metadata": {},
   "outputs": [
    {
     "data": {
      "text/plain": [
       "0       Twitter for iPhone\n",
       "1       Twitter for iPhone\n",
       "2       Twitter for iPhone\n",
       "3       Twitter for iPhone\n",
       "4       Twitter for iPhone\n",
       "               ...        \n",
       "2044    Twitter for iPhone\n",
       "2045    Twitter for iPhone\n",
       "2046    Twitter for iPhone\n",
       "2053    Twitter for iPhone\n",
       "2057    Twitter for iPhone\n",
       "Name: source, Length: 1853, dtype: object"
      ]
     },
     "execution_count": 100,
     "metadata": {},
     "output_type": "execute_result"
    }
   ],
   "source": [
    "tweet_d['source']"
   ]
  },
  {
   "cell_type": "markdown",
   "id": "591e4874",
   "metadata": {},
   "source": [
    "## Step4. Analysis"
   ]
  },
  {
   "cell_type": "code",
   "execution_count": 101,
   "id": "0407eed3",
   "metadata": {},
   "outputs": [],
   "source": [
    "tweet_d.to_csv('tweet_d_master.csv' , index = False )"
   ]
  },
  {
   "cell_type": "code",
   "execution_count": 102,
   "id": "3dc26378",
   "metadata": {},
   "outputs": [],
   "source": [
    "tweet_df = pd.read_csv('tweet_d_master.csv')"
   ]
  },
  {
   "cell_type": "code",
   "execution_count": 103,
   "id": "dbebdaa0",
   "metadata": {},
   "outputs": [
    {
     "data": {
      "text/html": [
       "<div>\n",
       "<style scoped>\n",
       "    .dataframe tbody tr th:only-of-type {\n",
       "        vertical-align: middle;\n",
       "    }\n",
       "\n",
       "    .dataframe tbody tr th {\n",
       "        vertical-align: top;\n",
       "    }\n",
       "\n",
       "    .dataframe thead th {\n",
       "        text-align: right;\n",
       "    }\n",
       "</style>\n",
       "<table border=\"1\" class=\"dataframe\">\n",
       "  <thead>\n",
       "    <tr style=\"text-align: right;\">\n",
       "      <th></th>\n",
       "      <th>tweet_id</th>\n",
       "      <th>timestamp</th>\n",
       "      <th>source</th>\n",
       "      <th>text</th>\n",
       "      <th>retweeted_status_timestamp</th>\n",
       "      <th>expanded_urls</th>\n",
       "      <th>rating_numerator</th>\n",
       "      <th>rating_denominator</th>\n",
       "      <th>name</th>\n",
       "      <th>doggo</th>\n",
       "      <th>...</th>\n",
       "      <th>p1</th>\n",
       "      <th>p1_conf</th>\n",
       "      <th>p1_dog</th>\n",
       "      <th>p2</th>\n",
       "      <th>p2_conf</th>\n",
       "      <th>p2_dog</th>\n",
       "      <th>p3</th>\n",
       "      <th>p3_conf</th>\n",
       "      <th>p3_dog</th>\n",
       "      <th>stage</th>\n",
       "    </tr>\n",
       "  </thead>\n",
       "  <tbody>\n",
       "    <tr>\n",
       "      <th>0</th>\n",
       "      <td>892420643555336193</td>\n",
       "      <td>2017-08-01 16:23:56 +0000</td>\n",
       "      <td>Twitter for iPhone</td>\n",
       "      <td>This is Phineas. He's a mystical boy. Only eve...</td>\n",
       "      <td>NaN</td>\n",
       "      <td>https://twitter.com/dog_rates/status/892420643...</td>\n",
       "      <td>13</td>\n",
       "      <td>10</td>\n",
       "      <td>Phineas</td>\n",
       "      <td>NaN</td>\n",
       "      <td>...</td>\n",
       "      <td>orange</td>\n",
       "      <td>0.097049</td>\n",
       "      <td>False</td>\n",
       "      <td>bagel</td>\n",
       "      <td>0.085851</td>\n",
       "      <td>False</td>\n",
       "      <td>banana</td>\n",
       "      <td>0.076110</td>\n",
       "      <td>False</td>\n",
       "      <td>NaN</td>\n",
       "    </tr>\n",
       "    <tr>\n",
       "      <th>1</th>\n",
       "      <td>892177421306343426</td>\n",
       "      <td>2017-08-01 00:17:27 +0000</td>\n",
       "      <td>Twitter for iPhone</td>\n",
       "      <td>This is Tilly. She's just checking pup on you....</td>\n",
       "      <td>NaN</td>\n",
       "      <td>https://twitter.com/dog_rates/status/892177421...</td>\n",
       "      <td>13</td>\n",
       "      <td>10</td>\n",
       "      <td>Tilly</td>\n",
       "      <td>NaN</td>\n",
       "      <td>...</td>\n",
       "      <td>Chihuahua</td>\n",
       "      <td>0.323581</td>\n",
       "      <td>True</td>\n",
       "      <td>Pekinese</td>\n",
       "      <td>0.090647</td>\n",
       "      <td>True</td>\n",
       "      <td>papillon</td>\n",
       "      <td>0.068957</td>\n",
       "      <td>True</td>\n",
       "      <td>NaN</td>\n",
       "    </tr>\n",
       "    <tr>\n",
       "      <th>2</th>\n",
       "      <td>891815181378084864</td>\n",
       "      <td>2017-07-31 00:18:03 +0000</td>\n",
       "      <td>Twitter for iPhone</td>\n",
       "      <td>This is Archie. He is a rare Norwegian Pouncin...</td>\n",
       "      <td>NaN</td>\n",
       "      <td>https://twitter.com/dog_rates/status/891815181...</td>\n",
       "      <td>12</td>\n",
       "      <td>10</td>\n",
       "      <td>Archie</td>\n",
       "      <td>NaN</td>\n",
       "      <td>...</td>\n",
       "      <td>Chihuahua</td>\n",
       "      <td>0.716012</td>\n",
       "      <td>True</td>\n",
       "      <td>malamute</td>\n",
       "      <td>0.078253</td>\n",
       "      <td>True</td>\n",
       "      <td>kelpie</td>\n",
       "      <td>0.031379</td>\n",
       "      <td>True</td>\n",
       "      <td>NaN</td>\n",
       "    </tr>\n",
       "    <tr>\n",
       "      <th>3</th>\n",
       "      <td>891689557279858688</td>\n",
       "      <td>2017-07-30 15:58:51 +0000</td>\n",
       "      <td>Twitter for iPhone</td>\n",
       "      <td>This is Darla. She commenced a snooze mid meal...</td>\n",
       "      <td>NaN</td>\n",
       "      <td>https://twitter.com/dog_rates/status/891689557...</td>\n",
       "      <td>13</td>\n",
       "      <td>10</td>\n",
       "      <td>Darla</td>\n",
       "      <td>NaN</td>\n",
       "      <td>...</td>\n",
       "      <td>paper_towel</td>\n",
       "      <td>0.170278</td>\n",
       "      <td>False</td>\n",
       "      <td>Labrador_retriever</td>\n",
       "      <td>0.168086</td>\n",
       "      <td>True</td>\n",
       "      <td>spatula</td>\n",
       "      <td>0.040836</td>\n",
       "      <td>False</td>\n",
       "      <td>NaN</td>\n",
       "    </tr>\n",
       "    <tr>\n",
       "      <th>4</th>\n",
       "      <td>891327558926688256</td>\n",
       "      <td>2017-07-29 16:00:24 +0000</td>\n",
       "      <td>Twitter for iPhone</td>\n",
       "      <td>This is Franklin. He would like you to stop ca...</td>\n",
       "      <td>NaN</td>\n",
       "      <td>https://twitter.com/dog_rates/status/891327558...</td>\n",
       "      <td>12</td>\n",
       "      <td>10</td>\n",
       "      <td>Franklin</td>\n",
       "      <td>NaN</td>\n",
       "      <td>...</td>\n",
       "      <td>basset</td>\n",
       "      <td>0.555712</td>\n",
       "      <td>True</td>\n",
       "      <td>English_springer</td>\n",
       "      <td>0.225770</td>\n",
       "      <td>True</td>\n",
       "      <td>German_short-haired_pointer</td>\n",
       "      <td>0.175219</td>\n",
       "      <td>True</td>\n",
       "      <td>NaN</td>\n",
       "    </tr>\n",
       "  </tbody>\n",
       "</table>\n",
       "<p>5 rows × 27 columns</p>\n",
       "</div>"
      ],
      "text/plain": [
       "             tweet_id                  timestamp              source  \\\n",
       "0  892420643555336193  2017-08-01 16:23:56 +0000  Twitter for iPhone   \n",
       "1  892177421306343426  2017-08-01 00:17:27 +0000  Twitter for iPhone   \n",
       "2  891815181378084864  2017-07-31 00:18:03 +0000  Twitter for iPhone   \n",
       "3  891689557279858688  2017-07-30 15:58:51 +0000  Twitter for iPhone   \n",
       "4  891327558926688256  2017-07-29 16:00:24 +0000  Twitter for iPhone   \n",
       "\n",
       "                                                text  \\\n",
       "0  This is Phineas. He's a mystical boy. Only eve...   \n",
       "1  This is Tilly. She's just checking pup on you....   \n",
       "2  This is Archie. He is a rare Norwegian Pouncin...   \n",
       "3  This is Darla. She commenced a snooze mid meal...   \n",
       "4  This is Franklin. He would like you to stop ca...   \n",
       "\n",
       "   retweeted_status_timestamp  \\\n",
       "0                         NaN   \n",
       "1                         NaN   \n",
       "2                         NaN   \n",
       "3                         NaN   \n",
       "4                         NaN   \n",
       "\n",
       "                                       expanded_urls  rating_numerator  \\\n",
       "0  https://twitter.com/dog_rates/status/892420643...                13   \n",
       "1  https://twitter.com/dog_rates/status/892177421...                13   \n",
       "2  https://twitter.com/dog_rates/status/891815181...                12   \n",
       "3  https://twitter.com/dog_rates/status/891689557...                13   \n",
       "4  https://twitter.com/dog_rates/status/891327558...                12   \n",
       "\n",
       "   rating_denominator      name doggo  ...           p1   p1_conf p1_dog  \\\n",
       "0                  10   Phineas   NaN  ...       orange  0.097049  False   \n",
       "1                  10     Tilly   NaN  ...    Chihuahua  0.323581   True   \n",
       "2                  10    Archie   NaN  ...    Chihuahua  0.716012   True   \n",
       "3                  10     Darla   NaN  ...  paper_towel  0.170278  False   \n",
       "4                  10  Franklin   NaN  ...       basset  0.555712   True   \n",
       "\n",
       "                   p2   p2_conf p2_dog                           p3   p3_conf  \\\n",
       "0               bagel  0.085851  False                       banana  0.076110   \n",
       "1            Pekinese  0.090647   True                     papillon  0.068957   \n",
       "2            malamute  0.078253   True                       kelpie  0.031379   \n",
       "3  Labrador_retriever  0.168086   True                      spatula  0.040836   \n",
       "4    English_springer  0.225770   True  German_short-haired_pointer  0.175219   \n",
       "\n",
       "   p3_dog  stage  \n",
       "0   False    NaN  \n",
       "1    True    NaN  \n",
       "2    True    NaN  \n",
       "3   False    NaN  \n",
       "4    True    NaN  \n",
       "\n",
       "[5 rows x 27 columns]"
      ]
     },
     "execution_count": 103,
     "metadata": {},
     "output_type": "execute_result"
    }
   ],
   "source": [
    "tweet_df.head(5)"
   ]
  },
  {
   "cell_type": "code",
   "execution_count": 104,
   "id": "714010af",
   "metadata": {},
   "outputs": [
    {
     "name": "stdout",
     "output_type": "stream",
     "text": [
      "<class 'pandas.core.frame.DataFrame'>\n",
      "RangeIndex: 1853 entries, 0 to 1852\n",
      "Data columns (total 27 columns):\n",
      " #   Column                      Non-Null Count  Dtype  \n",
      "---  ------                      --------------  -----  \n",
      " 0   tweet_id                    1853 non-null   int64  \n",
      " 1   timestamp                   1853 non-null   object \n",
      " 2   source                      1853 non-null   object \n",
      " 3   text                        1853 non-null   object \n",
      " 4   retweeted_status_timestamp  0 non-null      float64\n",
      " 5   expanded_urls               1853 non-null   object \n",
      " 6   rating_numerator            1853 non-null   int64  \n",
      " 7   rating_denominator          1853 non-null   int64  \n",
      " 8   name                        1853 non-null   object \n",
      " 9   doggo                       68 non-null     object \n",
      " 10  floofer                     8 non-null      object \n",
      " 11  pupper                      198 non-null    object \n",
      " 12  puppo                       23 non-null     object \n",
      " 13  favorites                   1853 non-null   int64  \n",
      " 14  retweets                    1853 non-null   int64  \n",
      " 15  jpg_url                     1853 non-null   object \n",
      " 16  img_num                     1853 non-null   int64  \n",
      " 17  p1                          1853 non-null   object \n",
      " 18  p1_conf                     1853 non-null   float64\n",
      " 19  p1_dog                      1853 non-null   bool   \n",
      " 20  p2                          1853 non-null   object \n",
      " 21  p2_conf                     1853 non-null   float64\n",
      " 22  p2_dog                      1853 non-null   bool   \n",
      " 23  p3                          1853 non-null   object \n",
      " 24  p3_conf                     1853 non-null   float64\n",
      " 25  p3_dog                      1853 non-null   bool   \n",
      " 26  stage                       288 non-null    object \n",
      "dtypes: bool(3), float64(4), int64(6), object(14)\n",
      "memory usage: 353.0+ KB\n"
     ]
    }
   ],
   "source": [
    "tweet_df.info()"
   ]
  },
  {
   "cell_type": "markdown",
   "id": "cfb94080",
   "metadata": {},
   "source": [
    "### What is the count of Tweets for each Source?"
   ]
  },
  {
   "cell_type": "code",
   "execution_count": 117,
   "id": "54472638",
   "metadata": {},
   "outputs": [
    {
     "data": {
      "text/plain": [
       "<function matplotlib.pyplot.show(close=None, block=None)>"
      ]
     },
     "execution_count": 117,
     "metadata": {},
     "output_type": "execute_result"
    },
    {
     "data": {
      "image/png": "[encoded data removed]",
      "text/plain": [
       "<Figure size 432x288 with 1 Axes>"
      ]
     },
     "metadata": {
      "needs_background": "light"
     },
     "output_type": "display_data"
    }
   ],
   "source": [
    "import seaborn as sns \n",
    "tweet_source = tweet_df.groupby('source').count()['tweet_id']\n",
    "fig = sns.barplot(y = tweet_source.index, x = tweet_source.values, palette = 'pastel' )\n",
    "fig.set(xlabel = 'Count of Tweet sources ' , ylabel = 'Tweet Source' , title = 'Tweet Sources')\n",
    "plt.show()"
   ]
  },
  {
   "cell_type": "markdown",
   "id": "478949b7",
   "metadata": {},
   "source": [
    "As we can see the most tweet source is from Iphone\n",
    "Then from web and the lowest it is from Tweetdeck useres."
   ]
  },
  {
   "cell_type": "markdown",
   "id": "08dddd2f",
   "metadata": {},
   "source": [
    "### Is There any Relationship Between Count of retweets And Count of favorites?"
   ]
  },
  {
   "cell_type": "code",
   "execution_count": 118,
   "id": "f4cf769c",
   "metadata": {},
   "outputs": [
    {
     "data": {
      "text/plain": [
       "Text(0, 0.5, 'Favorites')"
      ]
     },
     "execution_count": 118,
     "metadata": {},
     "output_type": "execute_result"
    },
    {
     "data": {
      "image/png": "[encoded data removed]",
      "text/plain": [
       "<Figure size 432x288 with 1 Axes>"
      ]
     },
     "metadata": {
      "needs_background": "light"
     },
     "output_type": "display_data"
    }
   ],
   "source": [
    "plt.scatter(tweet_df['retweets'], tweet_df['favorites'] , color = 'hotpink')\n",
    "plt.title('The Relationship Between Count of retweets And Count of favorites')\n",
    "plt.xlabel('Retweets')\n",
    "plt.ylabel('Favorites')"
   ]
  },
  {
   "cell_type": "markdown",
   "id": "97519f2c",
   "metadata": {},
   "source": [
    "There is a Strong positive relationship \n",
    "The more Retweets there are , the more Favorites."
   ]
  },
  {
   "cell_type": "markdown",
   "id": "ad8f321b",
   "metadata": {},
   "source": [
    "### What are the most repeated words in the tweets of WeRateDogs account ?"
   ]
  },
  {
   "cell_type": "code",
   "execution_count": 38,
   "id": "bfae8124",
   "metadata": {},
   "outputs": [
    {
     "name": "stdout",
     "output_type": "stream",
     "text": [
      "There are 239653 words in the combination of all review.\n"
     ]
    }
   ],
   "source": [
    "text_word = \" \".join(review for review in tweet_df.text)\n",
    "print (\"There are {} words in the combination of all review.\".format(len(text_word)))"
   ]
  },
  {
   "cell_type": "code",
   "execution_count": 41,
   "id": "01ebad7c",
   "metadata": {},
   "outputs": [
    {
     "data": {
      "image/png": "[encoded data removed]",
      "text/plain": [
       "<Figure size 432x288 with 1 Axes>"
      ]
     },
     "metadata": {
      "needs_background": "light"
     },
     "output_type": "display_data"
    }
   ],
   "source": [
    "stopwords = set(STOPWORDS)\n",
    "stopwords.update([\"https\", \"MgUWQ76dJU\", \"t\", \"bldqew2ijj\" , \"CO\", \"af\"])\n",
    "\n",
    "# Generate a word cloud image\n",
    "wordcloud = WordCloud(stopwords=stopwords, background_color=\"white\").generate(text_word)\n",
    "\n",
    "# Display the generated image:\n",
    "# the matplotlib way:\n",
    "plt.imshow(wordcloud, interpolation='bilinear')\n",
    "plt.axis(\"off\")\n",
    "plt.show()"
   ]
  },
  {
   "cell_type": "markdown",
   "id": "3f858264",
   "metadata": {},
   "source": [
    "for fun, the most repeated words are:\n",
    "\n",
    "- Meet\n",
    "- Pupper\n",
    "- Dog\n",
    "- Pet\n",
    "- Love"
   ]
  },
  {
   "cell_type": "code",
   "execution_count": 43,
   "id": "89284b4b",
   "metadata": {},
   "outputs": [
    {
     "data": {
      "text/plain": [
       "<wordcloud.wordcloud.WordCloud at 0x1fc7cb15430>"
      ]
     },
     "execution_count": 43,
     "metadata": {},
     "output_type": "execute_result"
    }
   ],
   "source": [
    "wordcloud.to_file(\"imgw.png\")"
   ]
  },
  {
   "cell_type": "markdown",
   "id": "72ddc455",
   "metadata": {},
   "source": [
    "Resources:\n",
    "    https://www.datacamp.com/community/tutorials/wordcloud-python\n",
    "    \n",
    "   https://stackoverflow.com/questions/44703945/pandas-trouble-stripping-html-tags-from-dataframe-column\n",
    "    "
   ]
  }
 ],
 "metadata": {
  "kernelspec": {
   "display_name": "Python 3",
   "language": "python",
   "name": "python3"
  },
  "language_info": {
   "codemirror_mode": {
    "name": "ipython",
    "version": 3
   },
   "file_extension": ".py",
   "mimetype": "text/x-python",
   "name": "python",
   "nbconvert_exporter": "python",
   "pygments_lexer": "ipython3",
   "version": "3.9.1"
  }
 },
 "nbformat": 4,
 "nbformat_minor": 5
}
